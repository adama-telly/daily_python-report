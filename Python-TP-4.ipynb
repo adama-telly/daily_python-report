{
 "cells": [
  {
   "cell_type": "markdown",
   "id": "d68c1dee",
   "metadata": {
    "id": "d68c1dee"
   },
   "source": [
    "# Practical_4: Flow control"
   ]
  },
  {
   "cell_type": "markdown",
   "id": "ffa701a3",
   "metadata": {
    "id": "bea983a3"
   },
   "source": [
    "---\n",
    "\n",
    "### Exercise 1:\n",
    "Write a Python program that checks if a number is positive or negative.\n",
    "\n",
    "```python\n",
    "# Exercise 1\n",
    "```"
   ]
  },
  {
   "cell_type": "code",
   "execution_count": 9,
   "id": "49b57c04",
   "metadata": {},
   "outputs": [
    {
     "name": "stdout",
     "output_type": "stream",
     "text": [
      "number is negative\n",
      "number is positive\n",
      "number is null\n"
     ]
    }
   ],
   "source": [
    "def number_positive_or_negative(number):\n",
    "    if number>0:\n",
    "        print(\"number is positive\")\n",
    "    elif number==0:\n",
    "            print(\"number is null\")\n",
    "    else:\n",
    "        print(\"number is negative\")\n",
    "number_positive_or_negative(-3)\n",
    "number_positive_or_negative(3)\n",
    "number_positive_or_negative(0)"
   ]
  },
  {
   "cell_type": "markdown",
   "id": "e7a30936",
   "metadata": {
    "id": "bea983a3"
   },
   "source": [
    "---\n",
    "\n",
    "### Exercise 2:\n",
    "Write a Python function that checks if a string starts with a vowel.\n",
    "\n",
    "```python\n",
    "# Exercise 2\n",
    "```\n",
    "\n",
    "---"
   ]
  },
  {
   "cell_type": "code",
   "execution_count": 12,
   "id": "927a8452",
   "metadata": {},
   "outputs": [],
   "source": [
    "def string_with_vowol(str1):\n",
    "    voyelles='aioeuAEUIO'\n",
    "    if str1 and str1[0] in voyelles:\n",
    "        return True\n",
    "    else:\n",
    "        return False"
   ]
  },
  {
   "cell_type": "markdown",
   "id": "de046c55",
   "metadata": {
    "id": "bea983a3"
   },
   "source": [
    "### Exercise 3:\n",
    "Write a Python program that takes a list of integers and prints \"Even\" for each even number and \"Odd\" for each odd number.\n",
    "\n",
    "```python\n",
    "# Exercise 3\n",
    "```\n",
    "\n",
    "---"
   ]
  },
  {
   "cell_type": "code",
   "execution_count": 15,
   "id": "9f49f1aa",
   "metadata": {},
   "outputs": [
    {
     "name": "stdout",
     "output_type": "stream",
     "text": [
      "1 is Odd\n",
      "4 is Even\n",
      "8 is Even\n",
      "3 is Odd\n"
     ]
    }
   ],
   "source": [
    "def odd_even(list_integers):\n",
    "    for i in list_integers:\n",
    "        if i%2==0:\n",
    "            print(f\"{i} is Even\")\n",
    "        else:\n",
    "            print(f\"{i} is Odd\")\n",
    "odd_even([1,4,8,3])\n",
    "                "
   ]
  },
  {
   "cell_type": "markdown",
   "id": "78b7e121",
   "metadata": {
    "id": "bea983a3"
   },
   "source": [
    "### Exercise 4:\n",
    "Write a Python program that checks if a given year is a leap year.\n",
    "\n",
    "```python\n",
    "# Exercise 4\n",
    "```\n",
    "\n",
    "---"
   ]
  },
  {
   "cell_type": "code",
   "execution_count": 17,
   "id": "325d3c4c",
   "metadata": {},
   "outputs": [],
   "source": [
    "def leap_year(year):\n",
    "    if (year % 4 == 0 and year % 100 != 0) or (year % 400 == 0):\n",
    "        print(\"year is a leap year\")\n",
    "    else:\n",
    "       print(\"year is not leap year\") \n",
    "          "
   ]
  },
  {
   "cell_type": "markdown",
   "id": "2e754209",
   "metadata": {
    "id": "bea983a3"
   },
   "source": [
    "### Exercise 5:\n",
    "Write a Python function that checks if a number is divisible by both 3 and 5.\n",
    "\n",
    "```python\n",
    "# Exercise 5\n",
    "```\n",
    "\n",
    "---"
   ]
  },
  {
   "cell_type": "code",
   "execution_count": null,
   "id": "f49f3d79",
   "metadata": {},
   "outputs": [],
   "source": [
    "def divible_three_five(number):\n",
    "    if number%3==0 and number%5==0:\n",
    "        return True\n",
    "    else:\n",
    "        return False"
   ]
  },
  {
   "cell_type": "markdown",
   "id": "7f86d855",
   "metadata": {
    "id": "bea983a3"
   },
   "source": [
    "### Exercise 6:\n",
    "Write a Python program that prints \"Hot\" if the temperature is above 30, \"Warm\" if it is between 15 and 30, and \"Cold\" if it is below 15.\n",
    "\n",
    "```python\n",
    "# Exercise 6\n",
    "```\n",
    "\n",
    "---"
   ]
  },
  {
   "cell_type": "code",
   "execution_count": 18,
   "id": "d86d5ec7",
   "metadata": {},
   "outputs": [],
   "source": [
    "def climat(temperature):\n",
    "    if temperature>30:\n",
    "        print(\"Hot\")\n",
    "    elif  15<=temperature<=30:\n",
    "        print(\"Warm\")\n",
    "    else:\n",
    "        print(\"Cold\")\n",
    "            "
   ]
  },
  {
   "cell_type": "markdown",
   "id": "c307f9e1",
   "metadata": {
    "id": "bea983a3"
   },
   "source": [
    "### Exercise 7:\n",
    "Write a Python program that checks if a string contains the letter 'a'.\n",
    "\n",
    "```python\n",
    "# Exercise 7\n",
    "```\n",
    "\n",
    "---"
   ]
  },
  {
   "cell_type": "code",
   "execution_count": 22,
   "id": "c3af0c27",
   "metadata": {},
   "outputs": [
    {
     "data": {
      "text/plain": [
       "False"
      ]
     },
     "execution_count": 22,
     "metadata": {},
     "output_type": "execute_result"
    }
   ],
   "source": [
    "def contains_the_letter_a(str1):\n",
    "    if 'a'in str1:\n",
    "        return True\n",
    "    else:\n",
    "        return False\n",
    "contains_the_letter_a(\"fryrt\")  "
   ]
  },
  {
   "cell_type": "markdown",
   "id": "2c23bcd9",
   "metadata": {
    "id": "bea983a3"
   },
   "source": [
    "### Exercise 8:\n",
    "Write a Python function that checks if two numbers are equal, or which one is larger.\n",
    "\n",
    "```python\n",
    "# Exercise 8\n",
    "```\n",
    "\n",
    "---"
   ]
  },
  {
   "cell_type": "code",
   "execution_count": 25,
   "id": "e55204dd",
   "metadata": {},
   "outputs": [
    {
     "name": "stdout",
     "output_type": "stream",
     "text": [
      "23 is larger 7\n"
     ]
    }
   ],
   "source": [
    "def two_numbers_are_equal(number1,number2):\n",
    "    if number1==number2:\n",
    "        print(f\"{number1} and {number2} are equal\")\n",
    "    elif number1>number2:\n",
    "        print(f\"{number1} is larger than {number2}\")\n",
    "    else:\n",
    "        print(f\"{number2} is larger {number1}\")\n",
    "        \n",
    "two_numbers_are_equal(7,23)\n",
    "        "
   ]
  },
  {
   "cell_type": "markdown",
   "id": "a8bd76d0",
   "metadata": {
    "id": "bea983a3"
   },
   "source": [
    "### Exercise 9:\n",
    "Write a Python program that checks if a list is empty.\n",
    "\n",
    "```python\n",
    "# Exercise 9\n",
    "```\n",
    "\n",
    "---"
   ]
  },
  {
   "cell_type": "code",
   "execution_count": 29,
   "id": "6823ee26",
   "metadata": {},
   "outputs": [
    {
     "data": {
      "text/plain": [
       "False"
      ]
     },
     "execution_count": 29,
     "metadata": {},
     "output_type": "execute_result"
    }
   ],
   "source": [
    "def list_empty(list1):\n",
    "    return len(list1)==0\n",
    "list_empty([1,\"ed\"])"
   ]
  },
  {
   "cell_type": "markdown",
   "id": "9ea03d9c",
   "metadata": {
    "id": "bea983a3"
   },
   "source": [
    "### Exercise 10:\n",
    "Write a Python function that takes two strings and checks if they are anagrams.\n",
    "\n",
    "```python\n",
    "# Exercise 10\n",
    "```\n",
    "\n",
    "---"
   ]
  },
  {
   "cell_type": "code",
   "execution_count": 33,
   "id": "fbeff402",
   "metadata": {},
   "outputs": [
    {
     "data": {
      "text/plain": [
       "True"
      ]
     },
     "execution_count": 33,
     "metadata": {},
     "output_type": "execute_result"
    }
   ],
   "source": [
    "def sont_anagrammes(str1, str2):\n",
    "    str1 = str1.replace(\" \", \"\").lower()\n",
    "    str2 = str2.replace(\" \", \"\").lower()\n",
    "    return sorted(str1) == sorted(str2)\n",
    "sont_anagrammes('str1', 'st1r')"
   ]
  },
  {
   "cell_type": "markdown",
   "id": "057893bc",
   "metadata": {
    "id": "bea983a3"
   },
   "source": [
    "### Exercise 11:\n",
    "Write a Python program that checks if a number is prime.\n",
    "\n",
    "```python\n",
    "# Exercise 11\n",
    "```\n",
    "\n",
    "---"
   ]
  },
  {
   "cell_type": "code",
   "execution_count": null,
   "id": "92689549",
   "metadata": {},
   "outputs": [],
   "source": [
    "def est_premier(n):\n",
    "    if n <= 1:\n",
    "        return False\n",
    "    for i in range(2, int(n ** 0.5) + 1):\n",
    "        if n % i == 0:\n",
    "            return False\n",
    "    return True\n",
    "   "
   ]
  },
  {
   "cell_type": "markdown",
   "id": "fc89250c",
   "metadata": {
    "id": "bea983a3"
   },
   "source": [
    "### Exercise 12:\n",
    "Write a Python program that checks if a list of numbers is sorted in ascending order.\n",
    "\n",
    "```python\n",
    "# Exercise 12\n",
    "```\n",
    "\n",
    "---"
   ]
  },
  {
   "cell_type": "code",
   "execution_count": 40,
   "id": "75f781f2",
   "metadata": {},
   "outputs": [
    {
     "data": {
      "text/plain": [
       "False"
      ]
     },
     "execution_count": 40,
     "metadata": {},
     "output_type": "execute_result"
    }
   ],
   "source": [
    "def list1_sorted(list1):\n",
    "    return sorted(list1)==list1\n",
    "list1_sorted([1,3,2])"
   ]
  },
  {
   "cell_type": "markdown",
   "id": "a1800fe5",
   "metadata": {
    "id": "bea983a3"
   },
   "source": [
    "### Exercise 13:\n",
    "Write a Python function that takes a character and checks if it is a digit.\n",
    "\n",
    "```python\n",
    "# Exercise 13\n",
    "```\n",
    "\n",
    "---"
   ]
  },
  {
   "cell_type": "code",
   "execution_count": 161,
   "id": "b6b54191",
   "metadata": {},
   "outputs": [
    {
     "data": {
      "text/plain": [
       "True"
      ]
     },
     "execution_count": 161,
     "metadata": {},
     "output_type": "execute_result"
    }
   ],
   "source": [
    "def  is_digit(number):\n",
    "    return number.isdigit()\n",
    "is_digit('2345')"
   ]
  },
  {
   "cell_type": "markdown",
   "id": "47aab122",
   "metadata": {
    "id": "bea983a3"
   },
   "source": [
    "### Exercise 14:\n",
    "Write a Python function that checks if a string contains only uppercase letters.\n",
    "\n",
    "```python\n",
    "# Exercise 14\n",
    "```\n",
    "\n",
    "---"
   ]
  },
  {
   "cell_type": "code",
   "execution_count": 49,
   "id": "856fdac7",
   "metadata": {},
   "outputs": [
    {
     "data": {
      "text/plain": [
       "False"
      ]
     },
     "execution_count": 49,
     "metadata": {},
     "output_type": "execute_result"
    }
   ],
   "source": [
    "def only_uppercase(s):\n",
    "    return s.isupper() \n",
    "only_uppercase('ASDFa')"
   ]
  },
  {
   "cell_type": "markdown",
   "id": "b476d71d",
   "metadata": {
    "id": "bea983a3"
   },
   "source": [
    "# Exercise 15:\n",
    "Write a Python program that checks if a number is a multiple of 10.\n",
    "\n",
    "```python\n",
    "# Exercise 15\n",
    "```\n",
    "\n",
    "---"
   ]
  },
  {
   "cell_type": "code",
   "execution_count": 52,
   "id": "4db1f1ad",
   "metadata": {},
   "outputs": [
    {
     "data": {
      "text/plain": [
       "True"
      ]
     },
     "execution_count": 52,
     "metadata": {},
     "output_type": "execute_result"
    }
   ],
   "source": [
    "def multiple_ten(number):\n",
    "    if number%10==0:\n",
    "        return True\n",
    "    else:\n",
    "        return False\n",
    "multiple_ten(20)    "
   ]
  },
  {
   "cell_type": "markdown",
   "id": "3412aee2",
   "metadata": {
    "id": "bea983a3"
   },
   "source": [
    "### Exercise 16:\n",
    "Write a Python function that checks if a list contains any duplicates.\n",
    "\n",
    "```python\n",
    "# Exercise 16\n",
    "```\n",
    "\n",
    "---"
   ]
  },
  {
   "cell_type": "code",
   "execution_count": 55,
   "id": "e704d5b8",
   "metadata": {
    "id": "bea983a3"
   },
   "outputs": [
    {
     "data": {
      "text/plain": [
       "True"
      ]
     },
     "execution_count": 55,
     "metadata": {},
     "output_type": "execute_result"
    }
   ],
   "source": [
    "def contains_any_duplicates(list_1):\n",
    "    return len(set(list_1))==len(list_1)\n",
    "contains_any_duplicates([1,2,3,6])"
   ]
  },
  {
   "cell_type": "markdown",
   "id": "42417265",
   "metadata": {
    "id": "bea983a3"
   },
   "source": [
    "### Exercise 17:\n",
    ".\"\n",
    "Write a Python program that prints \"Teenager\" if the age is between 13 and 19, otherwise it prints \"Not a teenager\n",
    "```python\n",
    "# Exercise 17\n",
    "```\n",
    "\n",
    "---"
   ]
  },
  {
   "cell_type": "code",
   "execution_count": 56,
   "id": "094d0730",
   "metadata": {},
   "outputs": [],
   "source": [
    "def genre(age):\n",
    "    if 13<age<19:\n",
    "        print(\"Teenager\")\n",
    "    else:\n",
    "        prints(\"Not a teenager\")"
   ]
  },
  {
   "cell_type": "markdown",
   "id": "f8d43f27",
   "metadata": {
    "id": "bea983a3"
   },
   "source": [
    "### Exercise 18:\n",
    "Write a Python function that checks if a list contains an element greater than 100.\n",
    "\n",
    "```python\n",
    "# Exercise 18\n",
    "```Write a Python function that checks if a list contains an element greater than 100.\n",
    "\n",
    "---"
   ]
  },
  {
   "cell_type": "code",
   "execution_count": 58,
   "id": "05b5b990",
   "metadata": {},
   "outputs": [
    {
     "data": {
      "text/plain": [
       "False"
      ]
     },
     "execution_count": 58,
     "metadata": {},
     "output_type": "execute_result"
    }
   ],
   "source": [
    "def greater_than(list1):\n",
    "    for i in list1:\n",
    "        if i>=100:\n",
    "            return True\n",
    "        else:\n",
    "            return False\n",
    "greater_than([12,100,111,5])       "
   ]
  },
  {
   "cell_type": "markdown",
   "id": "0800225f",
   "metadata": {
    "id": "bea983a3"
   },
   "source": [
    "### Exercise 19:\n",
    "Write a Python program that checks if a number is even or odd.\n",
    "\n",
    "```python\n",
    "# Exercise 19\n",
    "```\n",
    "\n",
    "---"
   ]
  },
  {
   "cell_type": "code",
   "execution_count": 59,
   "id": "5315c224",
   "metadata": {},
   "outputs": [],
   "source": [
    "def number_even_odd(number):\n",
    "    if number%2==0:\n",
    "        print(\"number is even\")\n",
    "    else:\n",
    "         print(\"number is odd\")"
   ]
  },
  {
   "cell_type": "markdown",
   "id": "49071014",
   "metadata": {
    "id": "bea983a3"
   },
   "source": [
    "### Exercise 20:\n",
    "Write a Python function that checks if a string ends with a punctuation mark.\n",
    "\n",
    "```python\n",
    "# Exercise 20\n",
    "```\n",
    "\n",
    "---"
   ]
  },
  {
   "cell_type": "code",
   "execution_count": 156,
   "id": "94750e89",
   "metadata": {},
   "outputs": [],
   "source": [
    "def ends_with_punctuation(s):\n",
    "    punctuation_marks = \".!?;,:\"\n",
    "    return len(s) > 0 and s[-1] in punctuation_marks\n"
   ]
  },
  {
   "cell_type": "markdown",
   "id": "9ae69445",
   "metadata": {
    "id": "bea983a3"
   },
   "source": [
    "### Exercise 21:\n",
    "Write a Python program that prints \"Yes\" if the number is between 1 and 100, otherwise it prints \"No.\"\n",
    "\n",
    "```python\n",
    "# Exercise 21\n",
    "```\n",
    "\n",
    "---"
   ]
  },
  {
   "cell_type": "code",
   "execution_count": 157,
   "id": "3b6c1c34",
   "metadata": {},
   "outputs": [],
   "source": [
    "def between_otherwise(number):\n",
    "    if number in range(1,101):\n",
    "        print('YES')\n",
    "    else:\n",
    "        print('NO')"
   ]
  },
  {
   "cell_type": "markdown",
   "id": "3b8b16c9",
   "metadata": {
    "id": "bea983a3"
   },
   "source": [
    "### Exercise 22:\n",
    "Write a Python program that checks if two strings have the same length.\n",
    "\n",
    "```python\n",
    "# Exercise 22\n",
    "```\n",
    "\n",
    "---"
   ]
  },
  {
   "cell_type": "code",
   "execution_count": 60,
   "id": "c412e80f",
   "metadata": {},
   "outputs": [],
   "source": [
    "def same_length(str1,str2):\n",
    "    return len(str1)==len(str2)"
   ]
  },
  {
   "cell_type": "markdown",
   "id": "e313a55d",
   "metadata": {
    "id": "bea983a3"
   },
   "source": [
    "### Exercise 23:\n",
    "Write a Python function that checks if a number is greater than its reverse.\n",
    "\n",
    "```python\n",
    "# Exercise 23\n",
    "```\n",
    "\n",
    "---"
   ]
  },
  {
   "cell_type": "code",
   "execution_count": 155,
   "id": "856676ce",
   "metadata": {},
   "outputs": [],
   "source": [
    "def greater_than_reverse(number):\n",
    "    reverse_number=int(str(number)[::-1])\n",
    "    return number>reverse_number"
   ]
  },
  {
   "cell_type": "markdown",
   "id": "8f301633",
   "metadata": {
    "id": "bea983a3"
   },
   "source": [
    "### Exercise 24:\n",
    "Write a Python program that checks if a password contains both letters and numbers.\n",
    "\n",
    "```python\n",
    "# Exercise 24\n",
    "```\n",
    "\n",
    "---"
   ]
  },
  {
   "cell_type": "code",
   "execution_count": 154,
   "id": "53051513",
   "metadata": {},
   "outputs": [],
   "source": [
    "def check_password(password):\n",
    "    return any(c.isalpha() for c in password) and any(c.isdigit() for c in password)\n",
    "\n"
   ]
  },
  {
   "cell_type": "markdown",
   "id": "bd65fc8b",
   "metadata": {
    "id": "bea983a3"
   },
   "source": [
    "### Exercise 25:\n",
    "Write a Python program that checks if a number is between two given numbers.\n",
    "\n",
    "```python\n",
    "# Exercise 25\n",
    "```\n",
    "\n",
    "---"
   ]
  },
  {
   "cell_type": "code",
   "execution_count": 153,
   "id": "80f2bc7a",
   "metadata": {},
   "outputs": [
    {
     "data": {
      "text/plain": [
       "True"
      ]
     },
     "execution_count": 153,
     "metadata": {},
     "output_type": "execute_result"
    }
   ],
   "source": [
    "def is_between(number,upper,lower):\n",
    "    return lower<=number<=upper\n",
    "is_between(23,27,21)"
   ]
  },
  {
   "cell_type": "markdown",
   "id": "b8b73d7f",
   "metadata": {
    "id": "bea983a3"
   },
   "source": [
    "### Exercise 26:\n",
    "Write a Python function that checks if all characters in a string are unique.\n",
    "\n",
    "```python\n",
    "# Exercise 26\n",
    "```\n",
    "\n",
    "---"
   ]
  },
  {
   "cell_type": "code",
   "execution_count": 147,
   "id": "70c5b1d8",
   "metadata": {},
   "outputs": [
    {
     "data": {
      "text/plain": [
       "False"
      ]
     },
     "execution_count": 147,
     "metadata": {},
     "output_type": "execute_result"
    }
   ],
   "source": [
    "def string_unique(str1):\n",
    "    return len(str1)==len(set(str1))\n",
    "string_unique(\"qwertye\")"
   ]
  },
  {
   "cell_type": "markdown",
   "id": "1cb4c400",
   "metadata": {
    "id": "bea983a3"
   },
   "source": [
    "### Exercise 27:\n",
    "Write a Python program that checks if a number is a perfect square.\n",
    "\n",
    "```python\n",
    "# Exercise 27\n",
    "```"
   ]
  },
  {
   "cell_type": "code",
   "execution_count": 67,
   "id": "d33f4d79",
   "metadata": {},
   "outputs": [
    {
     "data": {
      "text/plain": [
       "False"
      ]
     },
     "execution_count": 67,
     "metadata": {},
     "output_type": "execute_result"
    }
   ],
   "source": [
    "import math \n",
    "def pecfect_square(nombre):\n",
    "    return type(math.sqrt(nombre))==int\n",
    "        \n",
    "pecfect_square(25) "
   ]
  },
  {
   "cell_type": "markdown",
   "id": "b62fea73",
   "metadata": {
    "id": "bea983a3"
   },
   "source": [
    "---\n",
    "\n",
    "### Exercise 28:\n",
    "Write a Python function that checks if a word is a palindrome.\n",
    "\n",
    "```python\n",
    "# Exercise 28\n",
    "```\n",
    "\n",
    "---"
   ]
  },
  {
   "cell_type": "code",
   "execution_count": 151,
   "id": "03018c4d",
   "metadata": {},
   "outputs": [
    {
     "data": {
      "text/plain": [
       "True"
      ]
     },
     "execution_count": 151,
     "metadata": {},
     "output_type": "execute_result"
    }
   ],
   "source": [
    "def palindrome(chaine):\n",
    "    chaine=chaine.replace(\" \",\"\").lower()\n",
    "    return chaine==chaine[::-1]\n",
    "palindrome('tot')"
   ]
  },
  {
   "cell_type": "markdown",
   "id": "a38f90ce",
   "metadata": {
    "id": "bea983a3"
   },
   "source": [
    "### Exercise 29:\n",
    "Write a Python program that prints \"Fizz\" if a number is divisible by 3, \"Buzz\" if it is divisible by 5, and \"FizzBuzz\" if divisible by both.\n",
    "\n",
    "```python\n",
    "# Exercise 29\n",
    "```\n",
    "\n",
    "---"
   ]
  },
  {
   "cell_type": "code",
   "execution_count": null,
   "id": "4a51f5d1",
   "metadata": {},
   "outputs": [],
   "source": [
    "def divisible(number):\n",
    "    if number%3==0:\n",
    "        print(\"Fizz\")\n",
    "    elif number%5==0:\n",
    "        print(\"Buzz\")\n",
    "    elif number%3==0 and number%5==0:\n",
    "        print(\"FizzBuzz\")\n",
    "divisible(15)"
   ]
  },
  {
   "cell_type": "markdown",
   "id": "d7108191",
   "metadata": {
    "id": "bea983a3"
   },
   "source": [
    "### Exercise 30:\n",
    "Write a Python program that checks if the sum of the digits of a number is even.\n",
    "\n",
    "```python\n",
    "# Exercise 30\n",
    "```\n",
    "\n",
    "---"
   ]
  },
  {
   "cell_type": "code",
   "execution_count": 83,
   "id": "7d74cc9d",
   "metadata": {},
   "outputs": [
    {
     "name": "stdout",
     "output_type": "stream",
     "text": [
      "7\n"
     ]
    }
   ],
   "source": [
    "def sum_digits(number):\n",
    "    som=0\n",
    "    number=list(str(number))\n",
    "    for i in number:\n",
    "        som+=int(i)\n",
    "    print(som)\n",
    "sum_digits(34)"
   ]
  },
  {
   "cell_type": "markdown",
   "id": "ebd14ce0",
   "metadata": {
    "id": "bea983a3"
   },
   "source": [
    "### Exercise 31:\n",
    "Write a Python program that checks if a string is a valid email address.\n",
    "\n",
    "```python\n",
    "# Exercise 31\n",
    "```\n",
    "\n",
    "---"
   ]
  },
  {
   "cell_type": "code",
   "execution_count": null,
   "id": "983b210a",
   "metadata": {},
   "outputs": [],
   "source": [
    "import re  \n",
    "\n",
    "def is_valid_email(email):\n",
    "    pattern = r'^[\\w\\.-]+@[\\w\\.-]+\\.\\w+$'\n",
    "    return re.match(pattern, email) is not None\n",
    "\n"
   ]
  },
  {
   "cell_type": "markdown",
   "id": "772fe0e2",
   "metadata": {
    "id": "bea983a3"
   },
   "source": [
    "### Exercise 32:\n",
    "Write a Python function that checks if a number is within 10 of 100 or 200.\n",
    "\n",
    "```python\n",
    "# Exercise 32\n",
    "```\n",
    "\n",
    "---"
   ]
  },
  {
   "cell_type": "code",
   "execution_count": null,
   "id": "a415158c",
   "metadata": {},
   "outputs": [],
   "source": [
    "def within_10_of_100_or_200(number):\n",
    "    return abs(100 - number) <= 10 or abs(200 - number) <= 10\n"
   ]
  },
  {
   "cell_type": "markdown",
   "id": "ec3a0b1c",
   "metadata": {
    "id": "bea983a3"
   },
   "source": [
    "### Exercise 33:\n",
    "Write a Python program that checks if a given string is a valid URL.\n",
    "\n",
    "```python\n",
    "# Exercise 33\n",
    "```\n",
    "\n",
    "---"
   ]
  },
  {
   "cell_type": "code",
   "execution_count": null,
   "id": "6e5a7fbf",
   "metadata": {},
   "outputs": [],
   "source": [
    "import re \n",
    "\n",
    "def is_valid_url(url):\n",
    "    # Expression régulière pour valider une URL\n",
    "    pattern = r'^(https?://)?(www\\.)?[\\w-]+\\.[a-z]{2,}(/[\\w\\-./?%&=]*)?$'\n",
    "    return re.match(pattern, url) is not None"
   ]
  },
  {
   "cell_type": "markdown",
   "id": "68d76238",
   "metadata": {
    "id": "bea983a3"
   },
   "source": [
    "### Exercise 34:\n",
    "Write a Python program that checks if a list contains all even numbers.\n",
    "\n",
    "```python\n",
    "# Exercise 34\n",
    "```\n",
    "\n",
    "---"
   ]
  },
  {
   "cell_type": "code",
   "execution_count": 2,
   "id": "6fd6b4ef",
   "metadata": {},
   "outputs": [
    {
     "data": {
      "text/plain": [
       "False"
      ]
     },
     "execution_count": 2,
     "metadata": {},
     "output_type": "execute_result"
    }
   ],
   "source": [
    "def all_even(list1):\n",
    "    som=0\n",
    "    for i in list1:\n",
    "        if i%2==0:\n",
    "            som+=1\n",
    "    return len(list1)==som\n",
    "all_even([2,4,3])"
   ]
  },
  {
   "cell_type": "markdown",
   "id": "860c9bb2",
   "metadata": {
    "id": "bea983a3"
   },
   "source": [
    "### Exercise 35:\n",
    "Write a Python program that checks if a word is longer than a given length.\n",
    "\n",
    "```python\n",
    "# Exercise 35\n",
    "```\n",
    "\n",
    "---"
   ]
  },
  {
   "cell_type": "code",
   "execution_count": 86,
   "id": "005add57",
   "metadata": {},
   "outputs": [
    {
     "data": {
      "text/plain": [
       "True"
      ]
     },
     "execution_count": 86,
     "metadata": {},
     "output_type": "execute_result"
    }
   ],
   "source": [
    "def longer_length(word,length):\n",
    "    return len(word)==length\n",
    "longer_length('trew',4)"
   ]
  },
  {
   "cell_type": "markdown",
   "id": "de036106",
   "metadata": {
    "id": "bea983a3"
   },
   "source": [
    "### Exercise 36:\n",
    "Write a Python program that checks if a list contains only positive numbers.\n",
    "\n",
    "```python\n",
    "# Exercise 36\n",
    "```\n",
    "\n",
    "---"
   ]
  },
  {
   "cell_type": "code",
   "execution_count": 93,
   "id": "7db45813",
   "metadata": {},
   "outputs": [
    {
     "data": {
      "text/plain": [
       "True"
      ]
     },
     "execution_count": 93,
     "metadata": {},
     "output_type": "execute_result"
    }
   ],
   "source": [
    "def list_only_positive(list1):\n",
    "    number=0\n",
    "    for i in list1:\n",
    "        if i>0:\n",
    "            number+=1\n",
    "    return number==len(list1)\n",
    "list_only_positive([1,5,4,-3,-345])\n",
    "list_only_positive([1,4,7,9])"
   ]
  },
  {
   "cell_type": "markdown",
   "id": "8d346f2e",
   "metadata": {
    "id": "bea983a3"
   },
   "source": [
    "### Exercise 37:\n",
    "Write a Python function that checks if a year is a century year (i.e., divisible by 100).\n",
    "\n",
    "```python\n",
    "# Exercise 37\n",
    "```\n",
    "\n",
    "---"
   ]
  },
  {
   "cell_type": "code",
   "execution_count": 95,
   "id": "a06bd156",
   "metadata": {},
   "outputs": [
    {
     "data": {
      "text/plain": [
       "True"
      ]
     },
     "execution_count": 95,
     "metadata": {},
     "output_type": "execute_result"
    }
   ],
   "source": [
    "def century_year(year):\n",
    "    return year%100==0\n",
    "century_year(2000)\n",
    "    "
   ]
  },
  {
   "cell_type": "markdown",
   "id": "74581797",
   "metadata": {
    "id": "bea983a3"
   },
   "source": [
    "### Exercise 38:\n",
    "Write a Python program that checks if the sum of a list of numbers is greater than 100.\n",
    "\n",
    "```python\n",
    "# Exercise 38\n",
    "```\n",
    "\n",
    "---"
   ]
  },
  {
   "cell_type": "code",
   "execution_count": 97,
   "id": "b489d18c",
   "metadata": {},
   "outputs": [
    {
     "data": {
      "text/plain": [
       "True"
      ]
     },
     "execution_count": 97,
     "metadata": {},
     "output_type": "execute_result"
    }
   ],
   "source": [
    "def sum_list(list1):\n",
    "    return sum(list1)>100\n",
    "sum_list([1,100])"
   ]
  },
  {
   "cell_type": "markdown",
   "id": "7687b2b9",
   "metadata": {
    "id": "bea983a3"
   },
   "source": [
    "### Exercise 39:\n",
    "Write a Python function that checks if a given word is a substring of another string.\n",
    "\n",
    "```python\n",
    "# Exercise 39\n",
    "```\n",
    "\n",
    "---"
   ]
  },
  {
   "cell_type": "code",
   "execution_count": 100,
   "id": "bfb6876f",
   "metadata": {},
   "outputs": [
    {
     "data": {
      "text/plain": [
       "True"
      ]
     },
     "execution_count": 100,
     "metadata": {},
     "output_type": "execute_result"
    }
   ],
   "source": [
    "def substring_word(mot,str1):\n",
    "    return mot in str1\n",
    "substring_word(\"da\",\"adama telly ba\")"
   ]
  },
  {
   "cell_type": "markdown",
   "id": "e4bf9b9a",
   "metadata": {
    "id": "bea983a3"
   },
   "source": [
    "### Exercise 40:\n",
    "Write a Python program that checks if a number is a power of 2.\n",
    "\n",
    "```python\n",
    "# Exercise 40\n",
    "```\n",
    "\n",
    "---"
   ]
  },
  {
   "cell_type": "code",
   "execution_count": 142,
   "id": "fce72c34",
   "metadata": {},
   "outputs": [
    {
     "data": {
      "text/plain": [
       "False"
      ]
     },
     "execution_count": 142,
     "metadata": {},
     "output_type": "execute_result"
    }
   ],
   "source": [
    "def number_power(number):\n",
    "    if number<=0:\n",
    "        return False\n",
    "    while number%2==0:\n",
    "        number=number//2\n",
    "    return number==1    \n",
    "number_power(-2)"
   ]
  },
  {
   "cell_type": "markdown",
   "id": "df562f3c",
   "metadata": {
    "id": "bea983a3"
   },
   "source": [
    "### Exercise 41:\n",
    "Write a Python function that checks if a string contains no spaces.\n",
    "\n",
    "```python\n",
    "# Exercise 41\n",
    "```\n",
    "\n",
    "---"
   ]
  },
  {
   "cell_type": "code",
   "execution_count": 114,
   "id": "731fdb9b",
   "metadata": {},
   "outputs": [
    {
     "data": {
      "text/plain": [
       "True"
      ]
     },
     "execution_count": 114,
     "metadata": {},
     "output_type": "execute_result"
    }
   ],
   "source": [
    "def contain_no_spaces(str1):\n",
    "    return \" \"not in str1\n",
    "contain_no_spaces('adamerwavb')"
   ]
  },
  {
   "cell_type": "markdown",
   "id": "3c9e5937",
   "metadata": {
    "id": "bea983a3"
   },
   "source": [
    "### Exercise 42:\n",
    "Write a Python program that prints \"Yes\" if a number is divisible by both 2 and 3, otherwise it prints \"No.\"\n",
    "\n",
    "```python\n",
    "# Exercise 42\n",
    "```\n",
    "\n",
    "---"
   ]
  },
  {
   "cell_type": "code",
   "execution_count": 118,
   "id": "9d02f724",
   "metadata": {},
   "outputs": [
    {
     "name": "stdout",
     "output_type": "stream",
     "text": [
      "YES\n"
     ]
    }
   ],
   "source": [
    "def number_divisible(number):\n",
    "    if number%2==0 and number%3==0:\n",
    "        print(\"YES\")\n",
    "    else:\n",
    "        print(\"No\")\n",
    "number_divisible(12)"
   ]
  },
  {
   "cell_type": "markdown",
   "id": "d00c442d",
   "metadata": {
    "id": "bea983a3"
   },
   "source": [
    "### Exercise 43:\n",
    "Write a Python program that checks if a number is a palindrome.\n",
    "\n",
    "```python\n",
    "# Exercise 43\n",
    "```\n",
    "\n",
    "---"
   ]
  },
  {
   "cell_type": "code",
   "execution_count": null,
   "id": "c92ad669",
   "metadata": {},
   "outputs": [],
   "source": [
    "def is_palindrome_number(n):\n",
    "    n_str = str(n)\n",
    "    return n_str == n_str[::-1]"
   ]
  },
  {
   "cell_type": "markdown",
   "id": "3fd4acbf",
   "metadata": {
    "id": "bea983a3"
   },
   "source": [
    "### Exercise 44:\n",
    "Write a Python function that checks if a string is made of only lowercase letters.\n",
    "\n",
    "```python\n",
    "# Exercise 44\n",
    "```\n",
    "\n",
    "---"
   ]
  },
  {
   "cell_type": "code",
   "execution_count": 123,
   "id": "c2c190ec",
   "metadata": {},
   "outputs": [
    {
     "data": {
      "text/plain": [
       "False"
      ]
     },
     "execution_count": 123,
     "metadata": {},
     "output_type": "execute_result"
    }
   ],
   "source": [
    "def only_lowercace(str1):\n",
    "    return str1.islower()\n",
    "only_lowercace(\"qwertyA\")"
   ]
  },
  {
   "cell_type": "markdown",
   "id": "4b5760f3",
   "metadata": {
    "id": "bea983a3"
   },
   "source": [
    "### Exercise 45:\n",
    "Write a Python program that checks if a string starts with a specific prefix.\n",
    "\n",
    "```python\n",
    "# Exercise 45\n",
    "```\n",
    "\n",
    "---"
   ]
  },
  {
   "cell_type": "code",
   "execution_count": null,
   "id": "a66edbff",
   "metadata": {},
   "outputs": [],
   "source": [
    "def starts_with_prefix(string, prefix):\n",
    "    return string.startswith(prefix)"
   ]
  },
  {
   "cell_type": "markdown",
   "id": "d67bcd29",
   "metadata": {
    "id": "bea983a3"
   },
   "source": [
    "### Exercise 46:\n",
    "Write a Python function that checks if a number is divisible by any number in a given list.\n",
    "\n",
    "```python\n",
    "# Exercise 46\n",
    "```\n",
    "\n",
    "---"
   ]
  },
  {
   "cell_type": "code",
   "execution_count": 127,
   "id": "060991d4",
   "metadata": {},
   "outputs": [
    {
     "data": {
      "text/plain": [
       "True"
      ]
     },
     "execution_count": 127,
     "metadata": {},
     "output_type": "execute_result"
    }
   ],
   "source": [
    "def divisible_all_number_list(number,list1):\n",
    "    index=0\n",
    "    for i in list1:\n",
    "        if number%i==0:\n",
    "            index+=1\n",
    "    return len(list1)==index\n",
    "divisible_all_number_list(6,[2,3,6])"
   ]
  },
  {
   "cell_type": "markdown",
   "id": "e91d3e64",
   "metadata": {
    "id": "bea983a3"
   },
   "source": [
    "### Exercise 47:\n",
    "Write a Python program that prints \"Yes\" if a string has more than one occurrence of the same letter.\n",
    "\n",
    "```python\n",
    "# Exercise 47\n",
    "```\n",
    "\n",
    "---"
   ]
  },
  {
   "cell_type": "code",
   "execution_count": null,
   "id": "f742c66c",
   "metadata": {},
   "outputs": [],
   "source": [
    "def has_repeated_letter(s):\n",
    "    for char in s:\n",
    "        if s.count(char) > 1:\n",
    "            print(\"Yes\")\n",
    "            return\n",
    "    print(\"No\")"
   ]
  },
  {
   "cell_type": "markdown",
   "id": "641216c7",
   "metadata": {
    "id": "bea983a3"
   },
   "source": [
    "### Exercise 48:\n",
    "Write a Python function that checks if a number is prime by dividing it by numbers up to its square root.\n",
    "\n",
    "```python\n",
    "# Exercise 48\n",
    "```\n",
    "\n",
    "---"
   ]
  },
  {
   "cell_type": "code",
   "execution_count": null,
   "id": "79009a8a",
   "metadata": {},
   "outputs": [],
   "source": [
    "def near_multiple_of_10(n):\n",
    "    if n % 10 == 1 or n % 10 == 9:\n",
    "        print(\"Yes, the number is within 1 of a multiple of 10.\")\n",
    "    else:\n",
    "        print(\"No, the number is not within 1 of a multiple of 10.\")"
   ]
  },
  {
   "cell_type": "markdown",
   "id": "913c0b87",
   "metadata": {
    "id": "bea983a3"
   },
   "source": [
    "### Exercise 49:\n",
    "Write a Python program that checks if a number is within 1 of a multiple of 10.\n",
    "\n",
    "```python\n",
    "# Exercise 49\n",
    "```\n",
    "\n",
    "---"
   ]
  },
  {
   "cell_type": "code",
   "execution_count": null,
   "id": "16a0d9c9",
   "metadata": {},
   "outputs": [],
   "source": [
    "def near_multiple_of_10(number):\n",
    "    if number % 10 == 1 or number % 10 == 9:\n",
    "        print(\"Yes\")\n",
    "    else:\n",
    "        print(\"No\")"
   ]
  },
  {
   "cell_type": "markdown",
   "id": "bea983a3",
   "metadata": {
    "id": "bea983a3"
   },
   "source": [
    "### Exercise 50:\n",
    "Write a Python program that prints \"In range\" if a number is between 10 and 20 (inclusive), otherwise it prints \"Out of range.\"\n",
    "\n",
    "```python\n",
    "# Exercise 50\n",
    "```\n",
    "\n",
    "---"
   ]
  },
  {
   "cell_type": "code",
   "execution_count": 129,
   "id": "7e4f7ccf",
   "metadata": {},
   "outputs": [
    {
     "name": "stdout",
     "output_type": "stream",
     "text": [
      "In range\n"
     ]
    }
   ],
   "source": [
    "def Inrange_out(number):\n",
    "    if number in range(10,21):\n",
    "        print(\"In range\")\n",
    "    else:\n",
    "        print(\"Ouf of range\")\n",
    "Inrange_out(20)"
   ]
  },
  {
   "cell_type": "code",
   "execution_count": null,
   "id": "f740b92f",
   "metadata": {},
   "outputs": [],
   "source": []
  }
 ],
 "metadata": {
  "colab": {
   "provenance": []
  },
  "kernelspec": {
   "display_name": "Python 3 (ipykernel)",
   "language": "python",
   "name": "python3"
  },
  "language_info": {
   "codemirror_mode": {
    "name": "ipython",
    "version": 3
   },
   "file_extension": ".py",
   "mimetype": "text/x-python",
   "name": "python",
   "nbconvert_exporter": "python",
   "pygments_lexer": "ipython3",
   "version": "3.9.12"
  }
 },
 "nbformat": 4,
 "nbformat_minor": 5
}
