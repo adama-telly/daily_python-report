{
 "cells": [
  {
   "cell_type": "markdown",
   "id": "d68c1dee",
   "metadata": {
    "id": "d68c1dee"
   },
   "source": [
    "# Practical_3: Iterable objects or Containers"
   ]
  },
  {
   "cell_type": "markdown",
   "id": "5e2792b0",
   "metadata": {
    "id": "bea983a3"
   },
   "source": [
    "---\n",
    "\n",
    "### Exercise 1:\n",
    "Create a list of integers from 1 to 10.\n",
    "\n",
    "```python\n",
    "# Exercise 1\n",
    "```\n",
    "\n",
    "---"
   ]
  },
  {
   "cell_type": "code",
   "execution_count": 3,
   "id": "706f91d5",
   "metadata": {},
   "outputs": [
    {
     "name": "stdout",
     "output_type": "stream",
     "text": [
      "[1, 2, 3, 4, 5, 6, 7, 8, 9, 10]\n"
     ]
    }
   ],
   "source": [
    "list_1=list(range(1,11))\n",
    "print(list_1)"
   ]
  },
  {
   "cell_type": "markdown",
   "id": "f05ff710",
   "metadata": {
    "id": "bea983a3"
   },
   "source": [
    "### Exercise 2:\n",
    "Create a tuple containing the elements `\"apple\"`, `\"banana\"`, and `\"cherry\"`.\n",
    "\n",
    "```python\n",
    "# Exercise 2\n",
    "```\n",
    "\n",
    "---"
   ]
  },
  {
   "cell_type": "code",
   "execution_count": 5,
   "id": "489e7adb",
   "metadata": {},
   "outputs": [
    {
     "data": {
      "text/plain": [
       "('apple', 'banana', 'cherry')"
      ]
     },
     "execution_count": 5,
     "metadata": {},
     "output_type": "execute_result"
    }
   ],
   "source": [
    "tuple_1=(\"apple\",\"banana\",\"cherry\")\n",
    "tuple_1"
   ]
  },
  {
   "cell_type": "markdown",
   "id": "6d805606",
   "metadata": {
    "id": "bea983a3"
   },
   "source": [
    "### Exercise 3:\n",
    "Convert the list `numbers = [10, 20, 30, 40]` into a tuple.\n",
    "\n",
    "```python\n",
    "# Exercise 3\n",
    "```\n",
    "\n",
    "---"
   ]
  },
  {
   "cell_type": "code",
   "execution_count": 7,
   "id": "98148649",
   "metadata": {},
   "outputs": [
    {
     "data": {
      "text/plain": [
       "(10, 20, 30, 40)"
      ]
     },
     "execution_count": 7,
     "metadata": {},
     "output_type": "execute_result"
    }
   ],
   "source": [
    "numbers=[10,20,30,40]\n",
    "numbers=tuple(numbers)\n",
    "numbers"
   ]
  },
  {
   "cell_type": "markdown",
   "id": "26989e0f",
   "metadata": {
    "id": "bea983a3"
   },
   "source": [
    "### Exercise 4:\n",
    "Create a set containing the elements `1, 2, 3, 4, 5`.\n",
    "\n",
    "```python\n",
    "# Exercise 4\n",
    "```\n",
    "\n",
    "---"
   ]
  },
  {
   "cell_type": "code",
   "execution_count": 4,
   "id": "c4a76fd5",
   "metadata": {},
   "outputs": [
    {
     "data": {
      "text/plain": [
       "{1, 2, 3, 4, 5}"
      ]
     },
     "execution_count": 4,
     "metadata": {},
     "output_type": "execute_result"
    }
   ],
   "source": [
    "numbers={1,2,3,4,5}\n",
    "numbers"
   ]
  },
  {
   "cell_type": "markdown",
   "id": "d3739416",
   "metadata": {
    "id": "bea983a3"
   },
   "source": [
    "### Exercise 5:\n",
    "Create a dictionary `student` with the keys `\"name\"`, `\"age\"`, and `\"grade\"` and corresponding values `\"Alice\"`, `20`, and `\"A\"`.\n",
    "\n",
    "```python\n",
    "# Exercise 5\n",
    "```\n",
    "\n",
    "---"
   ]
  },
  {
   "cell_type": "code",
   "execution_count": null,
   "id": "19c4c8d3",
   "metadata": {},
   "outputs": [],
   "source": [
    "student={\"name\":\"Alice\",\"age\":20,\"grade\":\"A\"}"
   ]
  },
  {
   "cell_type": "markdown",
   "id": "d213b3a8",
   "metadata": {
    "id": "bea983a3"
   },
   "source": [
    "### Exercise 6:\n",
    "Access the second element of the list `[10, 20, 30, 40, 50]` using indexing.\n",
    "\n",
    "```python\n",
    "# Exercise 6\n",
    "```\n",
    "\n",
    "---"
   ]
  },
  {
   "cell_type": "code",
   "execution_count": 16,
   "id": "a87c2312",
   "metadata": {},
   "outputs": [
    {
     "data": {
      "text/plain": [
       "20"
      ]
     },
     "execution_count": 16,
     "metadata": {},
     "output_type": "execute_result"
    }
   ],
   "source": [
    "list_1=[10,20,30,40,50]\n",
    "#list_2=list([10,20,30,40,50])\n",
    "#list_2\n",
    "\n",
    "list_1[1]"
   ]
  },
  {
   "cell_type": "markdown",
   "id": "e68afe9d",
   "metadata": {
    "id": "bea983a3"
   },
   "source": [
    "### Exercise 7:\n",
    "Change the third element of the list `fruits = [\"apple\", \"banana\", \"cherry\", \"orange\"]` to `\"mango\"`.\n",
    "\n",
    "```python\n",
    "# Exercise 7\n",
    "```\n",
    "\n",
    "---"
   ]
  },
  {
   "cell_type": "code",
   "execution_count": 18,
   "id": "2db50643",
   "metadata": {},
   "outputs": [
    {
     "data": {
      "text/plain": [
       "['apple', 'banana', 'mango', 'orange']"
      ]
     },
     "execution_count": 18,
     "metadata": {},
     "output_type": "execute_result"
    }
   ],
   "source": [
    "fruits=[\"apple\",\"banana\",\"cherry\",\"orange\"]\n",
    "fruits[2]=\"mango\"\n",
    "fruits"
   ]
  },
  {
   "cell_type": "markdown",
   "id": "071f5adb",
   "metadata": {
    "id": "bea983a3"
   },
   "source": [
    "### Exercise 8:\n",
    "Add the number `6` to the set `numbers = {1, 2, 3, 4, 5}`.\n",
    "\n",
    "```python\n",
    "# Exercise 8\n",
    "```\n",
    "\n",
    "---"
   ]
  },
  {
   "cell_type": "code",
   "execution_count": 28,
   "id": "b5558ea3",
   "metadata": {},
   "outputs": [
    {
     "data": {
      "text/plain": [
       "{1, 2, 3, 4, 5, 6}"
      ]
     },
     "execution_count": 28,
     "metadata": {},
     "output_type": "execute_result"
    }
   ],
   "source": [
    "numbers={1,2,3,4,5}\n",
    "numbers=list(numbers)\n",
    "numbers.append(6)\n",
    "numbers=set(numbers)\n",
    "numbers"
   ]
  },
  {
   "cell_type": "markdown",
   "id": "e84325a8",
   "metadata": {
    "id": "bea983a3"
   },
   "source": [
    "### Exercise 9:\n",
    "Remove the key `\"age\"` from the dictionary `person = {\"name\": \"John\", \"age\": 25, \"city\": \"New York\"}`.\n",
    "\n",
    "```python\n",
    "# Exercise 9\n",
    "```\n",
    "\n",
    "---"
   ]
  },
  {
   "cell_type": "code",
   "execution_count": 22,
   "id": "e6234dde",
   "metadata": {},
   "outputs": [
    {
     "data": {
      "text/plain": [
       "{'name': 'john', 'city': 'New York'}"
      ]
     },
     "execution_count": 22,
     "metadata": {},
     "output_type": "execute_result"
    }
   ],
   "source": [
    "person={\"name\":\"john\",\"age\":25,\"city\":\"New York\"}\n",
    "del person[\"age\"]\n",
    "person"
   ]
  },
  {
   "cell_type": "markdown",
   "id": "7c8feb1f",
   "metadata": {
    "id": "bea983a3"
   },
   "source": [
    "### Exercise 10:\n",
    "Create a range object starting from 0 to 9.\n",
    "\n",
    "```python\n",
    "# Exercise 10\n",
    "```\n",
    "\n",
    "---"
   ]
  },
  {
   "cell_type": "code",
   "execution_count": 32,
   "id": "ee87d3ea",
   "metadata": {},
   "outputs": [
    {
     "name": "stdout",
     "output_type": "stream",
     "text": [
      "[0, 1, 2, 3, 4, 5, 6, 7, 8, 9]\n"
     ]
    }
   ],
   "source": [
    "number=[]\n",
    "for i in range(10):\n",
    "    number.append(i)\n",
    "print(number)\n",
    "#number"
   ]
  },
  {
   "cell_type": "raw",
   "id": "359f7c65",
   "metadata": {},
   "source": []
  },
  {
   "cell_type": "markdown",
   "id": "beb19042",
   "metadata": {
    "id": "bea983a3"
   },
   "source": [
    "### Exercise 11:\n",
    "Use a list comprehension to create a list of squares of numbers from 1 to 10.\n",
    "\n",
    "```python\n",
    "# Exercise 11\n",
    "```\n",
    "\n",
    "---"
   ]
  },
  {
   "cell_type": "code",
   "execution_count": 7,
   "id": "7f0ebdc4",
   "metadata": {},
   "outputs": [
    {
     "data": {
      "text/plain": [
       "[1, 4, 9, 16, 25, 36, 49, 64, 81, 100]"
      ]
     },
     "execution_count": 7,
     "metadata": {},
     "output_type": "execute_result"
    }
   ],
   "source": [
    "number=[i**2 for i in range(1,11)]\n",
    "number"
   ]
  },
  {
   "cell_type": "markdown",
   "id": "2bfaf25e",
   "metadata": {
    "id": "bea983a3"
   },
   "source": [
    "### Exercise 12:\n",
    "Create a tuple of even numbers between 2 and 10 using a tuple comprehension.\n",
    "\n",
    "```python\n",
    "# Exercise 12\n",
    "```\n",
    "\n",
    "---"
   ]
  },
  {
   "cell_type": "code",
   "execution_count": 10,
   "id": "e983d3b3",
   "metadata": {},
   "outputs": [
    {
     "data": {
      "text/plain": [
       "[2, 4, 6, 8, 10]"
      ]
     },
     "execution_count": 10,
     "metadata": {},
     "output_type": "execute_result"
    }
   ],
   "source": [
    "list_1=[i for i in range(2,11) if i%2==0]\n",
    "list_1"
   ]
  },
  {
   "cell_type": "markdown",
   "id": "e739e897",
   "metadata": {
    "id": "bea983a3"
   },
   "source": [
    "### Exercise 13:\n",
    "Use a for loop to iterate through the list `fruits = [\"apple\", \"banana\", \"cherry\"]` and print each element.\n",
    "\n",
    "```python\n",
    "# Exercise 13\n",
    "```\n",
    "\n",
    "---"
   ]
  },
  {
   "cell_type": "code",
   "execution_count": 1,
   "id": "e1c5140d",
   "metadata": {},
   "outputs": [
    {
     "name": "stdout",
     "output_type": "stream",
     "text": [
      "apple\n",
      "banana\n",
      "cherry\n"
     ]
    }
   ],
   "source": [
    "fruits = [\"apple\", \"banana\", \"cherry\"] \n",
    "for i in fruits:\n",
    "    print(i)"
   ]
  },
  {
   "cell_type": "markdown",
   "id": "fd9b8923",
   "metadata": {
    "id": "bea983a3"
   },
   "source": [
    "### Exercise 14:\n",
    "Check if the value `3` exists in the set `numbers = {1, 2, 3, 4, 5}`.\n",
    "\n",
    "```python\n",
    "# Exercise 14\n",
    "```\n",
    "\n",
    "---"
   ]
  },
  {
   "cell_type": "code",
   "execution_count": 13,
   "id": "d95e013f",
   "metadata": {},
   "outputs": [
    {
     "name": "stdout",
     "output_type": "stream",
     "text": [
      "the value 3 exists in the set\n"
     ]
    }
   ],
   "source": [
    "numbers = {1, 2, 3, 4, 5}\n",
    "numbers=list(numbers)\n",
    "count_3=numbers.count(3)\n",
    "if count_3!=0:\n",
    "    print(\"the value 3 exists in the set\")\n",
    "else:\n",
    "    print(\"the value 3 not exists in the set\")"
   ]
  },
  {
   "cell_type": "markdown",
   "id": "20d32f08",
   "metadata": {
    "id": "bea983a3"
   },
   "source": [
    "### Exercise 15:\n",
    "Use the `len()` function to find the length of the tuple `numbers = (10, 20, 30)`.\n",
    "\n",
    "```python\n",
    "# Exercise 15\n",
    "```\n",
    "\n",
    "---"
   ]
  },
  {
   "cell_type": "code",
   "execution_count": 15,
   "id": "92c9ad41",
   "metadata": {},
   "outputs": [
    {
     "data": {
      "text/plain": [
       "3"
      ]
     },
     "execution_count": 15,
     "metadata": {},
     "output_type": "execute_result"
    }
   ],
   "source": [
    "numbers = (10, 20, 30)\n",
    "len(numbers)"
   ]
  },
  {
   "cell_type": "markdown",
   "id": "c03c87c9",
   "metadata": {
    "id": "bea983a3"
   },
   "source": [
    "### Exercise 16:\n",
    "Add the value `100` at the end of the list `scores = [80, 85, 90, 95]`.\n",
    "\n",
    "```python\n",
    "# Exercise 16\n",
    "```\n",
    "\n",
    "---"
   ]
  },
  {
   "cell_type": "code",
   "execution_count": 17,
   "id": "8c0ab9ce",
   "metadata": {},
   "outputs": [
    {
     "data": {
      "text/plain": [
       "[80, 85, 90, 95, 100]"
      ]
     },
     "execution_count": 17,
     "metadata": {},
     "output_type": "execute_result"
    }
   ],
   "source": [
    "scores = [80, 85, 90, 95]\n",
    "scores.append(100)\n",
    "scores"
   ]
  },
  {
   "cell_type": "markdown",
   "id": "f46f5e8e",
   "metadata": {
    "id": "bea983a3"
   },
   "source": [
    "### Exercise 17:\n",
    "Write a function that takes a list as input and returns the sum of all elements in the list.\n",
    "\n",
    "```python\n",
    "# Exercise 17\n",
    "```\n",
    "\n",
    "---"
   ]
  },
  {
   "cell_type": "code",
   "execution_count": 19,
   "id": "b4abcb48",
   "metadata": {},
   "outputs": [
    {
     "data": {
      "text/plain": [
       "10"
      ]
     },
     "execution_count": 19,
     "metadata": {},
     "output_type": "execute_result"
    }
   ],
   "source": [
    "def liste_somme(list_1):\n",
    "    somme=sum(list_1)\n",
    "    return somme\n",
    "\n",
    "liste_somme([1,2,3,4])"
   ]
  },
  {
   "cell_type": "markdown",
   "id": "07f54d6c",
   "metadata": {
    "id": "bea983a3"
   },
   "source": [
    "### Exercise 18:\n",
    "Create a set containing the unique elements of the list `numbers = [1, 2, 2, 3, 4, 4, 5]`.\n",
    "\n",
    "```python\n",
    "# Exercise 18\n",
    "```\n",
    "\n",
    "---"
   ]
  },
  {
   "cell_type": "code",
   "execution_count": 27,
   "id": "3e7651d9",
   "metadata": {},
   "outputs": [
    {
     "data": {
      "text/plain": [
       "{1, 2, 3, 4, 5}"
      ]
     },
     "execution_count": 27,
     "metadata": {},
     "output_type": "execute_result"
    }
   ],
   "source": [
    "numbers = [1, 2, 2, 3, 4, 4, 5]\n",
    "set(numbers)"
   ]
  },
  {
   "cell_type": "markdown",
   "id": "a63b1548",
   "metadata": {
    "id": "bea983a3"
   },
   "source": [
    "### Exercise 19:\n",
    "Convert the string `\"hello\"` into a list of characters.\n",
    "\n",
    "```python\n",
    "# Exercise 19\n",
    "```\n",
    "\n",
    "---"
   ]
  },
  {
   "cell_type": "code",
   "execution_count": 25,
   "id": "60eb25a6",
   "metadata": {},
   "outputs": [
    {
     "data": {
      "text/plain": [
       "['h', 'e', 'l', 'l', 'o']"
      ]
     },
     "execution_count": 25,
     "metadata": {},
     "output_type": "execute_result"
    }
   ],
   "source": [
    "list('hello')"
   ]
  },
  {
   "cell_type": "markdown",
   "id": "f6f8432a",
   "metadata": {
    "id": "bea983a3"
   },
   "source": [
    "### Exercise 20:\n",
    "Write a Python function that reverses a tuple `(1, 2, 3, 4)`.\n",
    "\n",
    "```python\n",
    "# Exercise 20\n",
    "```\n",
    "\n",
    "---"
   ]
  },
  {
   "cell_type": "code",
   "execution_count": null,
   "id": "b20ed191",
   "metadata": {},
   "outputs": [],
   "source": [
    "tuple_1=(1, 2, 3, 4)\n"
   ]
  },
  {
   "cell_type": "markdown",
   "id": "16ef1b2b",
   "metadata": {
    "id": "bea983a3"
   },
   "source": [
    "### Exercise 21:\n",
    "Merge two dictionaries `dict1 = {\"a\": 1, \"b\": 2}` and `dict2 = {\"c\": 3, \"d\": 4}` into a single dictionary.\n",
    "\n",
    "```python\n",
    "# Exercise 21\n",
    "```"
   ]
  },
  {
   "cell_type": "code",
   "execution_count": 4,
   "id": "c0fc1934",
   "metadata": {},
   "outputs": [
    {
     "data": {
      "text/plain": [
       "{'a': 1, 'b': 2, 'c': 3, 'd': 4}"
      ]
     },
     "execution_count": 4,
     "metadata": {},
     "output_type": "execute_result"
    }
   ],
   "source": [
    "dict1 = {\"a\": 1, \"b\": 2}\n",
    "dict2 = {\"c\": 3, \"d\": 4}\n",
    "dict1.update(dict2)\n",
    "dict1"
   ]
  },
  {
   "cell_type": "markdown",
   "id": "e0702fea",
   "metadata": {
    "id": "bea983a3"
   },
   "source": [
    "---\n",
    "\n",
    "### Exercise 22:\n",
    "Create a dictionary where keys are numbers from 1 to 5, and values are their squares.\n",
    "\n",
    "```python\n",
    "# Exercise 22\n",
    "```\n",
    "\n",
    "---"
   ]
  },
  {
   "cell_type": "code",
   "execution_count": 7,
   "id": "e2a73da2",
   "metadata": {},
   "outputs": [
    {
     "data": {
      "text/plain": [
       "{1: 1, 2: 4, 3: 9, 4: 16, 5: 25}"
      ]
     },
     "execution_count": 7,
     "metadata": {},
     "output_type": "execute_result"
    }
   ],
   "source": [
    "dict_1={i:i**2 for i in range(1,6)}\n",
    "dict_1"
   ]
  },
  {
   "cell_type": "markdown",
   "id": "a3026aaf",
   "metadata": {
    "id": "bea983a3"
   },
   "source": [
    "### Exercise 23:\n",
    "Write a Python program to iterate through a dictionary and print each key-value pair.\n",
    "\n",
    "```python\n",
    "# Exercise 23\n",
    "```\n",
    "\n",
    "---"
   ]
  },
  {
   "cell_type": "code",
   "execution_count": 13,
   "id": "6ad565ab",
   "metadata": {},
   "outputs": [
    {
     "name": "stdout",
     "output_type": "stream",
     "text": [
      "('a', 1)\n",
      "('b', 2)\n",
      "('c', 3)\n",
      "('d', 4)\n"
     ]
    }
   ],
   "source": [
    "def dict_iterate(dict_1):\n",
    "    for i in dict_1.items():\n",
    "        print(i)\n",
    "dict_iterate(dict1)"
   ]
  },
  {
   "cell_type": "markdown",
   "id": "29c02479",
   "metadata": {
    "id": "bea983a3"
   },
   "source": [
    "### Exercise 24:\n",
    "Create a list of the first 5 letters of the alphabet using the `chr()` function.\n",
    "\n",
    "```python\n",
    "# Exercise 24\n",
    "```\n",
    "\n",
    "---"
   ]
  },
  {
   "cell_type": "code",
   "execution_count": 7,
   "id": "1ad7d3a0",
   "metadata": {},
   "outputs": [],
   "source": [
    "def first_letters_al():\n",
    "    lettre=[chr(i) for i in range(ord(\"a\"),ord(\"a\")+5)]\n",
    "    return lettre"
   ]
  },
  {
   "cell_type": "code",
   "execution_count": 9,
   "id": "cb7762a6",
   "metadata": {},
   "outputs": [
    {
     "data": {
      "text/plain": [
       "['a', 'b', 'c', 'd', 'e']"
      ]
     },
     "execution_count": 9,
     "metadata": {},
     "output_type": "execute_result"
    }
   ],
   "source": [
    "first_letters_al()"
   ]
  },
  {
   "cell_type": "markdown",
   "id": "f8cd883a",
   "metadata": {
    "id": "bea983a3"
   },
   "source": [
    "### Exercise 26:\n",
    "Find the index of the value `50` in the list `[10, 20, 30, 40, 50]`.\n",
    "\n",
    "```python\n",
    "# Exercise 26\n",
    "```\n",
    "\n",
    "---"
   ]
  },
  {
   "cell_type": "code",
   "execution_count": null,
   "id": "e3abe421",
   "metadata": {},
   "outputs": [],
   "source": []
  },
  {
   "cell_type": "code",
   "execution_count": 15,
   "id": "d36667ba",
   "metadata": {},
   "outputs": [
    {
     "name": "stdout",
     "output_type": "stream",
     "text": [
      "4\n"
     ]
    }
   ],
   "source": [
    "list_1=[10, 20, 30, 40, 50]\n",
    "nombre=list_1.index(50)\n",
    "print(nombre)"
   ]
  },
  {
   "cell_type": "markdown",
   "id": "cecdd189",
   "metadata": {
    "id": "bea983a3"
   },
   "source": [
    "### Exercise 27:\n",
    "Sort the list `names = [\"Alice\", \"Bob\", \"Charlie\", \"David\"]` in alphabetical order.\n",
    "\n",
    "```python\n",
    "# Exercise 27\n",
    "```\n",
    "\n",
    "---"
   ]
  },
  {
   "cell_type": "code",
   "execution_count": 18,
   "id": "7fd37bd7",
   "metadata": {},
   "outputs": [
    {
     "data": {
      "text/plain": [
       "['Alice', 'Bob', 'Charlie', 'David']"
      ]
     },
     "execution_count": 18,
     "metadata": {},
     "output_type": "execute_result"
    }
   ],
   "source": [
    "names = [\"Alice\", \"Charlie\", \"Bob\", \"David\"]\n",
    "names.sort()\n",
    "names"
   ]
  },
  {
   "cell_type": "raw",
   "id": "8677e8ba",
   "metadata": {
    "id": "bea983a3"
   },
   "source": [
    "### Exercise 28:\n",
    "Write a Python function that takes a list of integers as input and returns the largest number.\n",
    "\n",
    "```python\n",
    "# Exercise 28\n",
    "```\n",
    "\n",
    "---\n"
   ]
  },
  {
   "cell_type": "code",
   "execution_count": 21,
   "id": "5611e842",
   "metadata": {},
   "outputs": [
    {
     "data": {
      "text/plain": [
       "7"
      ]
     },
     "execution_count": 21,
     "metadata": {},
     "output_type": "execute_result"
    }
   ],
   "source": [
    "def largest_list(list_1):\n",
    "    som=0\n",
    "    for i in list_1:\n",
    "        som+=i\n",
    "    return som\n",
    "largest_list([1,2,4])"
   ]
  },
  {
   "cell_type": "markdown",
   "id": "16223b63",
   "metadata": {
    "id": "bea983a3"
   },
   "source": [
    "### Exercise 29:\n",
    "Use the `count()` method to count how many times `\"apple\"` appears in the list `fruits = [\"apple\", \"banana\", \"apple\", \"orange\"]`.\n",
    "\n",
    "```python\n",
    "# Exercise 29\n",
    "```\n",
    "\n",
    "---"
   ]
  },
  {
   "cell_type": "code",
   "execution_count": 24,
   "id": "acb750c2",
   "metadata": {},
   "outputs": [
    {
     "data": {
      "text/plain": [
       "2"
      ]
     },
     "execution_count": 24,
     "metadata": {},
     "output_type": "execute_result"
    }
   ],
   "source": [
    "fruits = [\"apple\", \"banana\", \"apple\", \"orange\"]\n",
    "fruits.count(\"apple\")"
   ]
  },
  {
   "cell_type": "markdown",
   "id": "fd5cf7ef",
   "metadata": {
    "id": "bea983a3"
   },
   "source": [
    "### Exercise 30:\n",
    "Create a dictionary `person` where keys are `\"name\"`, `\"age\"`, and `\"city\"`, and values are `\"Alice\"`, `25`, and `\"New York\"` respectively. Then access the value of the `\"city\"` key.\n",
    "\n",
    "```python\n",
    "# Exercise 30\n",
    "```\n",
    "\n",
    "---"
   ]
  },
  {
   "cell_type": "code",
   "execution_count": 26,
   "id": "ed378295",
   "metadata": {},
   "outputs": [
    {
     "data": {
      "text/plain": [
       "'New York'"
      ]
     },
     "execution_count": 26,
     "metadata": {},
     "output_type": "execute_result"
    }
   ],
   "source": [
    "person={\"name\":\"Alice\",\"age\":25,\"city\":\"New York\"}\n",
    "person[\"city\"]"
   ]
  },
  {
   "cell_type": "markdown",
   "id": "c27f49cc",
   "metadata": {
    "id": "bea983a3"
   },
   "source": [
    "### Exercise 31:\n",
    "Write a Python function that takes a list as input and returns a new list with all duplicates removed.\n",
    "\n",
    "```python\n",
    "# Exercise 31\n",
    "```\n",
    "\n",
    "---"
   ]
  },
  {
   "cell_type": "code",
   "execution_count": 32,
   "id": "434b635d",
   "metadata": {},
   "outputs": [
    {
     "data": {
      "text/plain": [
       "['apple', 'orange', 'banana']"
      ]
     },
     "execution_count": 32,
     "metadata": {},
     "output_type": "execute_result"
    }
   ],
   "source": [
    "def remove_duplicates(list_1):\n",
    "    list_1=list(set(list_1))\n",
    "    return list_1\n",
    "remove_duplicates( [\"apple\", \"banana\", \"apple\", \"orange\"])"
   ]
  },
  {
   "cell_type": "markdown",
   "id": "642846be",
   "metadata": {
    "id": "bea983a3"
   },
   "source": [
    "### Exercise 32:\n",
    "Write a Python function that takes two lists and returns their intersection.\n",
    "\n",
    "```python\n",
    "# Exercise 32\n",
    "```\n",
    "\n",
    "---"
   ]
  },
  {
   "cell_type": "markdown",
   "id": "ef9f5310",
   "metadata": {
    "id": "bea983a3"
   },
   "source": [
    "### Exercise 33:\n",
    "Create a generator that yields the squares of numbers from 1 to 10.\n",
    "\n",
    "```python\n",
    "# Exercise 33\n",
    "```\n",
    "\n",
    "---"
   ]
  },
  {
   "cell_type": "code",
   "execution_count": 34,
   "id": "c9a8886c",
   "metadata": {},
   "outputs": [
    {
     "data": {
      "text/plain": [
       "[1, 4, 9, 16, 25, 36, 49, 64, 81, 100]"
      ]
     },
     "execution_count": 34,
     "metadata": {},
     "output_type": "execute_result"
    }
   ],
   "source": [
    "list_1=[i**2 for i in range(1,11)]\n",
    "list_1"
   ]
  },
  {
   "cell_type": "markdown",
   "id": "468bd3c2",
   "metadata": {
    "id": "bea983a3"
   },
   "source": [
    "### Exercise 34:\n",
    "Write a Python function that takes a dictionary as input and returns the sum of all its values.\n",
    "\n",
    "```python\n",
    "# Exercise 34\n",
    "```\n",
    "\n",
    "---"
   ]
  },
  {
   "cell_type": "code",
   "execution_count": 11,
   "id": "0ba6d299",
   "metadata": {},
   "outputs": [
    {
     "data": {
      "text/plain": [
       "10"
      ]
     },
     "execution_count": 11,
     "metadata": {},
     "output_type": "execute_result"
    }
   ],
   "source": [
    "def all_values_dic(dic_1):\n",
    "    return sum(dic_1.values())\n",
    "dic_1={1: 1, 2: 2, 3: 3, 4: 4}\n",
    "all_values_dic(dic_1)"
   ]
  },
  {
   "cell_type": "markdown",
   "id": "3d5668c5",
   "metadata": {
    "id": "bea983a3"
   },
   "source": [
    "### Exercise 35:\n",
    "Use the `sorted()` function to sort the list `[3, 1, 4, 1, 5, 9]` in ascending order.\n",
    "\n",
    "```python\n",
    "# Exercise 35\n",
    "```\n",
    "\n",
    "---"
   ]
  },
  {
   "cell_type": "code",
   "execution_count": 46,
   "id": "6527a645",
   "metadata": {},
   "outputs": [
    {
     "data": {
      "text/plain": [
       "[1, 1, 3, 4, 5, 9]"
      ]
     },
     "execution_count": 46,
     "metadata": {},
     "output_type": "execute_result"
    }
   ],
   "source": [
    "list_1=[3, 1, 4, 1, 5, 9]\n",
    "list_1.sort()\n",
    "list_1"
   ]
  },
  {
   "cell_type": "markdown",
   "id": "73dd7514",
   "metadata": {
    "id": "bea983a3"
   },
   "source": [
    "### Exercise 36:\n",
    "Write a Python function that takes a list of strings as input and returns the longest string.\n",
    "\n",
    "```python\n",
    "# Exercise 36\n",
    "```\n",
    "\n",
    "---"
   ]
  },
  {
   "cell_type": "code",
   "execution_count": 48,
   "id": "6ec8d96c",
   "metadata": {},
   "outputs": [
    {
     "data": {
      "text/plain": [
       "3"
      ]
     },
     "execution_count": 48,
     "metadata": {},
     "output_type": "execute_result"
    }
   ],
   "source": [
    "def longest_string(str):\n",
    "    return len(str)\n",
    "longest_string('str')"
   ]
  },
  {
   "cell_type": "markdown",
   "id": "ec8718a5",
   "metadata": {
    "id": "bea983a3"
   },
   "source": [
    "### Exercise 37:\n",
    "Check if all the elements in the list `[1, 2, 3, 4, 5]` are greater than 0 using the `all()` function.\n",
    "\n",
    "```python\n",
    "# Exercise 37\n",
    "```\n",
    "\n",
    "---"
   ]
  },
  {
   "cell_type": "code",
   "execution_count": 14,
   "id": "0fc6b621",
   "metadata": {},
   "outputs": [
    {
     "data": {
      "text/plain": [
       "True"
      ]
     },
     "execution_count": 14,
     "metadata": {},
     "output_type": "execute_result"
    }
   ],
   "source": [
    "list_1= [1, 2, 3, 4, 5]\n",
    "resultat=all(x>0 for x in list_1)\n",
    "resultat"
   ]
  },
  {
   "cell_type": "markdown",
   "id": "aa77ac40",
   "metadata": {
    "id": "bea983a3"
   },
   "source": [
    "### Exercise 38:\n",
    "Create a list of tuples where each tuple contains a number and its square for numbers from 1 to 5.\n",
    "\n",
    "```python\n",
    "# Exercise 38\n",
    "```\n",
    "\n",
    "---"
   ]
  },
  {
   "cell_type": "code",
   "execution_count": 18,
   "id": "ee239e44",
   "metadata": {},
   "outputs": [
    {
     "data": {
      "text/plain": [
       "[(1, 1), (2, 4), (3, 9), (4, 16), (5, 25)]"
      ]
     },
     "execution_count": 18,
     "metadata": {},
     "output_type": "execute_result"
    }
   ],
   "source": [
    "list_typle=[(x,x**2) for x in range(1,6)]\n",
    "list_typle\n"
   ]
  },
  {
   "cell_type": "markdown",
   "id": "62fd8e20",
   "metadata": {
    "id": "bea983a3"
   },
   "source": [
    "### Exercise 39:\n",
    "Write a Python function that takes a list of tuples and returns a list of the second elements from each tuple.\n",
    "\n",
    "```python\n",
    "# Exercise 39\n",
    "```\n",
    "\n",
    "---"
   ]
  },
  {
   "cell_type": "code",
   "execution_count": 20,
   "id": "708fd8c0",
   "metadata": {},
   "outputs": [
    {
     "data": {
      "text/plain": [
       "[1, 4, 9, 16, 25]"
      ]
     },
     "execution_count": 20,
     "metadata": {},
     "output_type": "execute_result"
    }
   ],
   "source": [
    "def deuxiemes_elements(liste_tuples):\n",
    "    return [t[1] for t in liste_tuples]\n",
    "deuxiemes_elements(list_typle)\n"
   ]
  },
  {
   "cell_type": "markdown",
   "id": "50018154",
   "metadata": {
    "id": "bea983a3"
   },
   "source": [
    "### Exercise 40:\n",
    "Write a Python function that flattens a list of lists into a single list.\n",
    "\n",
    "```python\n",
    "# Exercise 40\n",
    "```\n",
    "\n",
    "---"
   ]
  },
  {
   "cell_type": "code",
   "execution_count": 22,
   "id": "810c1de1",
   "metadata": {},
   "outputs": [],
   "source": [
    "def one_list(liste_de_listes):\n",
    "    return [element for sous_liste in liste_de_listes for element in sous_liste]\n"
   ]
  },
  {
   "cell_type": "markdown",
   "id": "006b01f3",
   "metadata": {
    "id": "bea983a3"
   },
   "source": [
    "### Exercise 41:\n",
    "Use the `enumerate()` function to iterate through the list `[\"apple\", \"banana\", \"cherry\"]` and print the index and value.\n",
    "\n",
    "```python\n",
    "# Exercise 41\n",
    "```\n",
    "\n",
    "---"
   ]
  },
  {
   "cell_type": "code",
   "execution_count": 24,
   "id": "f4c2d5dc",
   "metadata": {},
   "outputs": [
    {
     "name": "stdout",
     "output_type": "stream",
     "text": [
      "0 apple\n",
      "1 banana\n",
      "2 cherry\n"
     ]
    }
   ],
   "source": [
    "list_abc= [\"apple\", \"banana\", \"cherry\"]\n",
    "for index,list_abc in enumerate(list_abc) :\n",
    "    print(index,list_abc)"
   ]
  },
  {
   "cell_type": "markdown",
   "id": "b0d140a9",
   "metadata": {
    "id": "bea983a3"
   },
   "source": [
    "### Exercise 42:\n",
    "Write a Python program that checks if a tuple is empty.\n",
    "\n",
    "```python\n",
    "# Exercise 42\n",
    "```\n",
    "\n",
    "---"
   ]
  },
  {
   "cell_type": "code",
   "execution_count": 29,
   "id": "b643f476",
   "metadata": {},
   "outputs": [
    {
     "name": "stdout",
     "output_type": "stream",
     "text": [
      "my_typle est vide \n"
     ]
    }
   ],
   "source": [
    "my_typle=()\n",
    "if not my_typle:\n",
    "    print('my_typle est vide ')\n",
    "else:\n",
    "    print(\"my_typle n'est vide \")    "
   ]
  },
  {
   "cell_type": "markdown",
   "id": "e321d759",
   "metadata": {
    "id": "bea983a3"
   },
   "source": [
    "### Exercise 43:\n",
    "Create a list of even numbers between 1 and 20 using the `range()` function.\n",
    "\n",
    "```python\n",
    "# Exercise 43\n",
    "```\n",
    "\n",
    "---"
   ]
  },
  {
   "cell_type": "code",
   "execution_count": 31,
   "id": "dcec893f",
   "metadata": {},
   "outputs": [
    {
     "data": {
      "text/plain": [
       "[2, 4, 6, 8, 10, 12, 14, 16, 18]"
      ]
     },
     "execution_count": 31,
     "metadata": {},
     "output_type": "execute_result"
    }
   ],
   "source": [
    "list_even=[i for i in range(1,20) if i%2==0 ]\n",
    "list_even"
   ]
  },
  {
   "cell_type": "markdown",
   "id": "70b2fe09",
   "metadata": {
    "id": "bea983a3"
   },
   "source": [
    "### Exercise 44:\n",
    "Write a Python function that takes a list of numbers as input and returns the list in reverse order.\n",
    "\n",
    "```python\n",
    "# Exercise 44\n",
    "```"
   ]
  },
  {
   "cell_type": "code",
   "execution_count": 34,
   "id": "0b3bac20",
   "metadata": {},
   "outputs": [
    {
     "data": {
      "text/plain": [
       "[2, 543, 43, 2]"
      ]
     },
     "execution_count": 34,
     "metadata": {},
     "output_type": "execute_result"
    }
   ],
   "source": [
    "def list_nombre(list_1):\n",
    "    return list_1[::-1]\n",
    "list_nombre([2,43,543,2])"
   ]
  },
  {
   "cell_type": "markdown",
   "id": "e19bb60b",
   "metadata": {
    "id": "bea983a3"
   },
   "source": [
    "---\n",
    "\n",
    "### Exercise 45:\n",
    "Create a dictionary comprehension that maps numbers from 1 to 5 to their cubes.\n",
    "\n",
    "```python\n",
    "# Exercise 45\n",
    "```\n",
    "\n",
    "---"
   ]
  },
  {
   "cell_type": "code",
   "execution_count": 36,
   "id": "2d9b179d",
   "metadata": {},
   "outputs": [
    {
     "data": {
      "text/plain": [
       "{1: 1, 2: 8, 3: 27, 4: 64, 5: 125}"
      ]
     },
     "execution_count": 36,
     "metadata": {},
     "output_type": "execute_result"
    }
   ],
   "source": [
    "dic_1={i:i**3 for i in range(1,6)}\n",
    "dic_1"
   ]
  },
  {
   "cell_type": "markdown",
   "id": "0c63744b",
   "metadata": {
    "id": "bea983a3"
   },
   "source": [
    "### Exercise 46:\n",
    "Write a Python program that creates a new list containing only the unique elements of the list `[1, 2, 2, 3, 4, 4, 5]`.\n",
    "\n",
    "```python\n",
    "# Exercise 46\n",
    "```\n",
    "\n",
    "---"
   ]
  },
  {
   "cell_type": "code",
   "execution_count": 38,
   "id": "80661864",
   "metadata": {},
   "outputs": [
    {
     "data": {
      "text/plain": [
       "[1, 2, 3, 4, 5]"
      ]
     },
     "execution_count": 38,
     "metadata": {},
     "output_type": "execute_result"
    }
   ],
   "source": [
    "list_1=[1, 2, 2, 3, 4, 4, 5]\n",
    "list_1=list(set(list_1))\n",
    "list_1"
   ]
  },
  {
   "cell_type": "markdown",
   "id": "f82d3620",
   "metadata": {
    "id": "bea983a3"
   },
   "source": [
    "### Exercise 47:\n",
    "Write a Python function that takes a list of dictionaries and returns a list of the values for a given key.\n",
    "\n",
    "```python\n",
    "# Exercise 47\n",
    "```\n",
    "\n",
    "---"
   ]
  },
  {
   "cell_type": "code",
   "execution_count": 39,
   "id": "60f1c6da",
   "metadata": {},
   "outputs": [],
   "source": [
    "def valeurs_pour_cle(liste_dicts, cle):\n",
    "    return [d[cle] for d in liste_dicts if cle in d]\n"
   ]
  },
  {
   "cell_type": "markdown",
   "id": "1176bc57",
   "metadata": {
    "id": "bea983a3"
   },
   "source": [
    "### Exercise 48:\n",
    "Write a Python function that uses a generator to yield the Fibonacci sequence up to `n` terms.\n",
    "\n",
    "```python\n",
    "# Exercise 48\n",
    "```\n",
    "\n",
    "---"
   ]
  },
  {
   "cell_type": "code",
   "execution_count": 42,
   "id": "3f1dc980",
   "metadata": {},
   "outputs": [
    {
     "name": "stdout",
     "output_type": "stream",
     "text": [
      "0 1 1 2 3 5 8 13 21 34 "
     ]
    }
   ],
   "source": [
    "def fibonacci(n):\n",
    "    a, b = 0, 1\n",
    "    for _ in range(n):\n",
    "        yield a\n",
    "        a, b = b, a + b\n",
    "for nombre in fibonacci(10):\n",
    "    print(nombre, end=\" \")\n"
   ]
  },
  {
   "cell_type": "markdown",
   "id": "51760dee",
   "metadata": {
    "id": "bea983a3"
   },
   "source": [
    "### Exercise 49:\n",
    "Write a Python function that takes a string and returns a list of all unique characters in the string.\n",
    "\n",
    "```python\n",
    "# Exercise 49\n",
    "```\n",
    "\n",
    "---"
   ]
  },
  {
   "cell_type": "code",
   "execution_count": 43,
   "id": "a0bfae5c",
   "metadata": {},
   "outputs": [
    {
     "data": {
      "text/plain": [
       "['m', 'd', 'a']"
      ]
     },
     "execution_count": 43,
     "metadata": {},
     "output_type": "execute_result"
    }
   ],
   "source": [
    "def caracteres_uniques(chaine):\n",
    "    return list(set(chaine))\n",
    "caracteres_uniques(\"adama\")"
   ]
  },
  {
   "cell_type": "markdown",
   "id": "a55ce783",
   "metadata": {
    "id": "bea983a3"
   },
   "source": [
    "### Exercise 50:\n",
    "Write a Python function that merges two sorted lists into a single sorted list.\n",
    "\n",
    "```python\n",
    "# Exercise 50\n",
    "```\n",
    "\n",
    "---"
   ]
  },
  {
   "cell_type": "code",
   "execution_count": 44,
   "id": "3bb160ad",
   "metadata": {},
   "outputs": [],
   "source": [
    "def fusion_listes(liste1, liste2):\n",
    "    resultat = []\n",
    "    i, j = 0, 0\n",
    "    \n",
    "    # Parcourir les deux listes tant qu'il y a des éléments\n",
    "    while i < len(liste1) and j < len(liste2):\n",
    "        if liste1[i] < liste2[j]:\n",
    "            resultat.append(liste1[i])\n",
    "            i += 1\n",
    "        else:\n",
    "            resultat.append(liste2[j])\n",
    "            j += 1\n",
    "    \n",
    "    # Ajouter les éléments restants de liste1\n",
    "    while i < len(liste1):\n",
    "        resultat.append(liste1[i])\n",
    "        i += 1\n",
    "    \n",
    "    # Ajouter les éléments restants de liste2\n",
    "    while j < len(liste2):\n",
    "        resultat.append(liste2[j])\n",
    "        j += 1\n",
    "    \n",
    "    return resultat\n"
   ]
  },
  {
   "cell_type": "markdown",
   "id": "ed89f9f8",
   "metadata": {
    "id": "bea983a3"
   },
   "source": [
    "### Exercise 51:\n",
    "Use the\n",
    "\n",
    " `filter()` function to filter out odd numbers from the list `[1, 2, 3, 4, 5, 6]`.\n",
    "\n",
    "```python\n",
    "# Exercise 51\n",
    "```\n",
    "\n",
    "---"
   ]
  },
  {
   "cell_type": "code",
   "execution_count": 46,
   "id": "0b6fa5de",
   "metadata": {},
   "outputs": [
    {
     "name": "stdout",
     "output_type": "stream",
     "text": [
      "[2, 4, 6]\n"
     ]
    }
   ],
   "source": [
    "list_1=[1, 2, 3, 4, 5, 6]\n",
    "pairs = list(filter(lambda x: x % 2 == 0, list_1))\n",
    "print(pairs)"
   ]
  },
  {
   "cell_type": "markdown",
   "id": "74f00666",
   "metadata": {
    "id": "bea983a3"
   },
   "source": [
    "### Exercise 52:\n",
    "Write a Python program that converts a list of tuples `[(1, 2), (3, 4), (5, 6)]` into a dictionary.\n",
    "\n",
    "```python\n",
    "# Exercise 52\n",
    "```\n",
    "\n",
    "---"
   ]
  },
  {
   "cell_type": "code",
   "execution_count": 49,
   "id": "dedd9491",
   "metadata": {},
   "outputs": [
    {
     "data": {
      "text/plain": [
       "{1: 2, 3: 4, 5: 6}"
      ]
     },
     "execution_count": 49,
     "metadata": {},
     "output_type": "execute_result"
    }
   ],
   "source": [
    "list_of_tuples=[(1, 2), (3, 4), (5, 6)]\n",
    "dictionnair=dict(list_of_tuples)\n",
    "dictionnair"
   ]
  },
  {
   "cell_type": "markdown",
   "id": "3897f4b9",
   "metadata": {
    "id": "bea983a3"
   },
   "source": [
    "### Exercise 53:\n",
    "Write a Python function that takes two sets and returns their symmetric difference.\n",
    "\n",
    "```python\n",
    "# Exercise 53\n",
    "```\n",
    "\n",
    "---"
   ]
  },
  {
   "cell_type": "code",
   "execution_count": 51,
   "id": "87e2ea4a",
   "metadata": {},
   "outputs": [
    {
     "name": "stdout",
     "output_type": "stream",
     "text": [
      "{1, 2, 4, 5}\n"
     ]
    }
   ],
   "source": [
    "def difference_symetrique(set1, set2):\n",
    "    return set1.symmetric_difference(set2)\n",
    "A = {1, 2, 3}\n",
    "B = {3, 4, 5}\n",
    "\n",
    "print(difference_symetrique(A, B))\n",
    "\n"
   ]
  },
  {
   "cell_type": "markdown",
   "id": "9771c069",
   "metadata": {
    "id": "bea983a3"
   },
   "source": [
    "### Exercise 54:\n",
    "Write a Python program that finds the common elements in three lists `list1`, `list2`, and `list3`.\n",
    "\n",
    "```python\n",
    "# Exercise 54\n",
    "```\n",
    "\n",
    "---"
   ]
  },
  {
   "cell_type": "code",
   "execution_count": 55,
   "id": "ef682c96",
   "metadata": {},
   "outputs": [
    {
     "data": {
      "text/plain": [
       "[3, 4]"
      ]
     },
     "execution_count": 55,
     "metadata": {},
     "output_type": "execute_result"
    }
   ],
   "source": [
    "list1 = [1, 2, 3, 4]\n",
    "list2 = [3, 4, 5, 6]\n",
    "list3 = [4, 3, 7, 8]\n",
    "commun=list(set(list1) & set(list2) & set(list3))\n",
    "commun"
   ]
  },
  {
   "cell_type": "markdown",
   "id": "13db8f76",
   "metadata": {
    "id": "bea983a3"
   },
   "source": [
    "### Exercise 55:\n",
    "Write a Python function that returns the factorial of a number using recursion.\n",
    "\n",
    "```python\n",
    "# Exercise 55\n",
    "```\n",
    "\n",
    "---"
   ]
  },
  {
   "cell_type": "code",
   "execution_count": 56,
   "id": "4fd566fe",
   "metadata": {},
   "outputs": [],
   "source": [
    "def factoriel(n):\n",
    "    if n == 0 or n == 1:  # Cas de base\n",
    "        return 1\n",
    "    else:\n",
    "        return n * factoriel(n - 1)  # Appel récursif\n"
   ]
  },
  {
   "cell_type": "markdown",
   "id": "9651e165",
   "metadata": {
    "id": "bea983a3"
   },
   "source": [
    "### Exercise 56:\n",
    "Write a Python program that removes all empty strings from the list `[\"apple\", \"\", \"banana\", \"\", \"cherry\"]`.\n",
    "\n",
    "```python\n",
    "# Exercise 56\n",
    "```\n",
    "\n",
    "---"
   ]
  },
  {
   "cell_type": "code",
   "execution_count": 58,
   "id": "f6c6c495",
   "metadata": {},
   "outputs": [
    {
     "data": {
      "text/plain": [
       "['apple', 'banana', 'cherry']"
      ]
     },
     "execution_count": 58,
     "metadata": {},
     "output_type": "execute_result"
    }
   ],
   "source": [
    "list_1=[\"apple\", \"\", \"banana\", \"\", \"cherry\"]\n",
    "list_1=[i for i in list_1 if i!=\"\"]\n",
    "list_1"
   ]
  },
  {
   "cell_type": "markdown",
   "id": "8987b14e",
   "metadata": {
    "id": "bea983a3"
   },
   "source": [
    "### Exercise 57:\n",
    "Write a Python function that takes a dictionary and returns a new dictionary with the keys and values swapped.\n",
    "\n",
    "```python\n",
    "# Exercise 57\n",
    "```\n",
    "\n",
    "---"
   ]
  },
  {
   "cell_type": "code",
   "execution_count": 60,
   "id": "f942cc17",
   "metadata": {},
   "outputs": [],
   "source": [
    "def invers_dic(dict1):\n",
    "    dict1={v:k for k,v in dict_1.items()}\n",
    "    return dict1"
   ]
  },
  {
   "cell_type": "markdown",
   "id": "53c04315",
   "metadata": {
    "id": "bea983a3"
   },
   "source": [
    "### Exercise 58:\n",
    "Write a Python function that takes a list of integers and returns a new list with only the even numbers.\n",
    "\n",
    "```python\n",
    "# Exercise 58\n",
    "```\n",
    "\n",
    "---"
   ]
  },
  {
   "cell_type": "code",
   "execution_count": 61,
   "id": "acb9914b",
   "metadata": {},
   "outputs": [],
   "source": [
    "def list_even(list1):\n",
    "    list1=[i for i in list1 if i%2==0]\n",
    "    return list1"
   ]
  },
  {
   "cell_type": "markdown",
   "id": "a39c98d6",
   "metadata": {
    "id": "bea983a3"
   },
   "source": [
    "### Exercise 59:\n",
    "Write a Python function that takes a list of tuples and returns a list of the first elements of each tuple.\n",
    "\n",
    "```python\n",
    "# Exercise 59\n",
    "```\n",
    "\n",
    "---"
   ]
  },
  {
   "cell_type": "code",
   "execution_count": 62,
   "id": "20d9abfd",
   "metadata": {},
   "outputs": [],
   "source": [
    "def first_element(list_typle):\n",
    "    return[t[0] for t in list_typle]\n",
    "    "
   ]
  },
  {
   "cell_type": "markdown",
   "id": "00ba637c",
   "metadata": {
    "id": "bea983a3"
   },
   "source": [
    "### Exercise 60:\n",
    "Write a Python program that removes duplicates from a list without changing the order of elements.\n",
    "\n",
    "```python\n",
    "# Exercise 60\n",
    "```\n",
    "\n",
    "---"
   ]
  },
  {
   "cell_type": "code",
   "execution_count": 63,
   "id": "74729331",
   "metadata": {},
   "outputs": [
    {
     "name": "stdout",
     "output_type": "stream",
     "text": [
      "[1, 2, 3, 4, 5]\n"
     ]
    }
   ],
   "source": [
    "def supprimer_doublons(liste):\n",
    "    vue = set()\n",
    "    resultat = []\n",
    "    for element in liste:\n",
    "        if element not in vue:\n",
    "            resultat.append(element)\n",
    "            vue.add(element)\n",
    "    return resultat\n",
    "\n",
    "# Exemple d'utilisation\n",
    "ma_liste = [1, 2, 2, 3, 4, 3, 5]\n",
    "nouvelle_liste = supprimer_doublons(ma_liste)\n",
    "print(nouvelle_liste)\n"
   ]
  },
  {
   "cell_type": "markdown",
   "id": "8a78a25e",
   "metadata": {
    "id": "bea983a3"
   },
   "source": [
    "### Exercise 61:\n",
    "Use the `map()` function to convert a list of strings to a list of their lengths.\n",
    "\n",
    "```python\n",
    "# Exercise 61\n",
    "```\n",
    "\n",
    "---"
   ]
  },
  {
   "cell_type": "code",
   "execution_count": 64,
   "id": "245650c3",
   "metadata": {},
   "outputs": [
    {
     "name": "stdout",
     "output_type": "stream",
     "text": [
      "[5, 6, 6]\n"
     ]
    }
   ],
   "source": [
    "mots = [\"apple\", \"banana\", \"cherry\"]\n",
    "\n",
    "# Utilisation de map pour obtenir la longueur de chaque mot\n",
    "longueurs = list(map(len, mots))\n",
    "\n",
    "print(longueurs)\n"
   ]
  },
  {
   "cell_type": "markdown",
   "id": "aca4d09d",
   "metadata": {
    "id": "bea983a3"
   },
   "source": [
    "### Exercise 62:\n",
    "Write a Python program that calculates the average of a list of numbers.\n",
    "\n",
    "```python\n",
    "# Exercise 62\n",
    "```\n",
    "\n",
    "---"
   ]
  },
  {
   "cell_type": "code",
   "execution_count": 68,
   "id": "0e75f411",
   "metadata": {},
   "outputs": [
    {
     "data": {
      "text/plain": [
       "238.5"
      ]
     },
     "execution_count": 68,
     "metadata": {},
     "output_type": "execute_result"
    }
   ],
   "source": [
    "list_3=[35,9,865,45]\n",
    "som=sum(list_3)\n",
    "moyenne=som/len(list_3)\n",
    "moyenne"
   ]
  },
  {
   "cell_type": "markdown",
   "id": "8e37bf7d",
   "metadata": {
    "id": "bea983a3"
   },
   "source": [
    "### Exercise 63:\n",
    "Write a Python function that generates a list of the first `n` Fibonacci numbers.\n",
    "\n",
    "```python\n",
    "# Exercise 63\n",
    "```\n",
    "\n",
    "---"
   ]
  },
  {
   "cell_type": "code",
   "execution_count": 69,
   "id": "be2bc531",
   "metadata": {},
   "outputs": [],
   "source": [
    "def fibonacci_liste(n):\n",
    "    if n <= 0:\n",
    "        return []\n",
    "    elif n == 1:\n",
    "        return [0]\n",
    "    \n",
    "    fib = [0, 1]  # Les deux premiers termes\n",
    "    while len(fib) < n:\n",
    "        fib.append(fib[-1] + fib[-2])  # Ajouter la somme des deux derniers termes\n",
    "    return fib\n"
   ]
  },
  {
   "cell_type": "markdown",
   "id": "5cfc4e45",
   "metadata": {
    "id": "bea983a3"
   },
   "source": [
    "### Exercise 64:\n",
    "Write a Python program that counts how many times each element appears in the list `[\"apple\", \"banana\", \"apple\", \"cherry\"]`.\n",
    "\n",
    "```python\n",
    "# Exercise 64\n",
    "```\n",
    "\n",
    "---"
   ]
  },
  {
   "cell_type": "code",
   "execution_count": 70,
   "id": "29f553b1",
   "metadata": {},
   "outputs": [
    {
     "name": "stdout",
     "output_type": "stream",
     "text": [
      "{'apple': 2, 'banana': 1, 'cherry': 1}\n"
     ]
    }
   ],
   "source": [
    "fruits=[\"apple\", \"banana\", \"apple\", \"cherry\"]\n",
    "compteur = {}\n",
    "for fruit in fruits:\n",
    "    if fruit in compteur:\n",
    "        compteur[fruit] += 1\n",
    "    else:\n",
    "        compteur[fruit] = 1\n",
    "\n",
    "print(compteur)\n"
   ]
  },
  {
   "cell_type": "markdown",
   "id": "e424b71a",
   "metadata": {
    "id": "bea983a3"
   },
   "source": [
    "### Exercise 65:\n",
    "Write a Python program that removes all occurrences of a specific value from a list.\n",
    "\n",
    "```python\n",
    "# Exercise 65\n",
    "```\n",
    "\n",
    "---"
   ]
  },
  {
   "cell_type": "code",
   "execution_count": 76,
   "id": "dfd87332",
   "metadata": {},
   "outputs": [
    {
     "name": "stdout",
     "output_type": "stream",
     "text": [
      "[1, 3, 4, 5]\n"
     ]
    }
   ],
   "source": [
    "def valeur_a_supprimer(nombres, valeur):\n",
    "    while valeur in nombres:\n",
    "        nombres.remove(valeur)\n",
    "    return nombres\n",
    "\n",
    "# Exemple d'utilisation\n",
    "resultat = valeur_a_supprimer([1, 2, 3, 2, 4, 2, 5], 2)\n",
    "print(resultat)\n"
   ]
  },
  {
   "cell_type": "markdown",
   "id": "e6fa9c71",
   "metadata": {
    "id": "bea983a3"
   },
   "source": [
    "### Exercise 66:\n",
    "Write a Python function that takes a list of strings and returns a list of the strings that start with a vowel.\n",
    "\n",
    "```python\n",
    "# Exercise 66\n",
    "```\n",
    "\n",
    "---"
   ]
  },
  {
   "cell_type": "code",
   "execution_count": 77,
   "id": "e9b71b7e",
   "metadata": {},
   "outputs": [],
   "source": [
    "def debut_voyelle(liste_str):\n",
    "    voyelles = \"AEIOUaeiou\"\n",
    "    return [mot for mot in liste_str if mot and mot[0] in voyelles]\n",
    "\n",
    "    "
   ]
  },
  {
   "cell_type": "markdown",
   "id": "64b493a9",
   "metadata": {
    "id": "bea983a3"
   },
   "source": [
    "### Exercise 67:\n",
    "Write a Python program that finds the intersection of two sets `set1` and `set2`.\n",
    "\n",
    "```python\n",
    "# Exercise 67\n",
    "```\n",
    "\n",
    "---"
   ]
  },
  {
   "cell_type": "code",
   "execution_count": 78,
   "id": "68748aba",
   "metadata": {},
   "outputs": [
    {
     "data": {
      "text/plain": [
       "{3, 4}"
      ]
     },
     "execution_count": 78,
     "metadata": {},
     "output_type": "execute_result"
    }
   ],
   "source": [
    "set1 = {1, 2, 3, 4}\n",
    "set2 = {3, 4, 5, 6}\n",
    "intersection=set1&set2\n",
    "intersection"
   ]
  },
  {
   "cell_type": "markdown",
   "id": "31e7a5a4",
   "metadata": {
    "id": "bea983a3"
   },
   "source": [
    "### Exercise 68:\n",
    "Write a Python function that flattens a nested list.\n",
    "\n",
    "```python\n",
    "# Exercise 68\n",
    "```\n",
    "\n",
    "---"
   ]
  },
  {
   "cell_type": "code",
   "execution_count": 79,
   "id": "21c2c803",
   "metadata": {},
   "outputs": [],
   "source": [
    "def aplatir_liste(liste):\n",
    "    resultat = []\n",
    "    for element in liste:\n",
    "        if isinstance(element, list):  # Si l'élément est une liste\n",
    "            resultat.extend(aplatir_liste(element))  # Appel récursif\n",
    "        else:\n",
    "            resultat.append(element)\n",
    "    return resultat\n"
   ]
  },
  {
   "cell_type": "markdown",
   "id": "bb6bac94",
   "metadata": {
    "id": "bea983a3"
   },
   "source": [
    "### Exercise 69:\n",
    "Write a Python program that checks if all the elements in a list are unique.\n",
    "\n",
    "```python\n",
    "# Exercise 69\n",
    "```\n",
    "\n",
    "---"
   ]
  },
  {
   "cell_type": "code",
   "execution_count": 81,
   "id": "5e56def6",
   "metadata": {},
   "outputs": [
    {
     "data": {
      "text/plain": [
       "False"
      ]
     },
     "execution_count": 81,
     "metadata": {},
     "output_type": "execute_result"
    }
   ],
   "source": [
    "list_1=[1,3,7,8,8]\n",
    "resultat=len(list_1)==len(set(list_1))\n",
    "resultat"
   ]
  },
  {
   "cell_type": "markdown",
   "id": "357691f0",
   "metadata": {
    "id": "bea983a3"
   },
   "source": [
    "### Exercise 70:\n",
    "Use the `reduce()` function from the `functools` module to multiply all elements in a list.\n",
    "\n",
    "```python\n",
    "# Exercise 70\n",
    "```\n",
    "\n",
    "---"
   ]
  },
  {
   "cell_type": "code",
   "execution_count": 82,
   "id": "f16d9e20",
   "metadata": {},
   "outputs": [
    {
     "name": "stdout",
     "output_type": "stream",
     "text": [
      "120\n"
     ]
    }
   ],
   "source": [
    "from functools import reduce\n",
    "\n",
    "# Liste d'exemple\n",
    "nombres = [1, 2, 3, 4, 5]\n",
    "\n",
    "# Utilisation de reduce pour multiplier tous les éléments\n",
    "produit = reduce(lambda x, y: x * y, nombres)\n",
    "\n",
    "print(produit)\n"
   ]
  },
  {
   "cell_type": "markdown",
   "id": "031f3cd8",
   "metadata": {
    "id": "bea983a3"
   },
   "source": [
    "### Exercise 71:\n",
    "Write a Python function that takes a list of strings and returns a dictionary where keys are strings and values are their lengths.\n",
    "\n",
    "```python\n",
    "# Exercise 71\n",
    "```\n",
    "\n",
    "---"
   ]
  },
  {
   "cell_type": "code",
   "execution_count": 92,
   "id": "874e0d97",
   "metadata": {},
   "outputs": [
    {
     "data": {
      "text/plain": [
       "{'adama': 5, 'telly': 5}"
      ]
     },
     "execution_count": 92,
     "metadata": {},
     "output_type": "execute_result"
    }
   ],
   "source": [
    "def dictionnaire(list_strings):\n",
    "    dictionary={mot:len(mot) for mot in list_strings}\n",
    "    return dictionary\n",
    "dictionnair=dictionnaire(['adama','telly'])\n",
    "dictionnair"
   ]
  },
  {
   "cell_type": "markdown",
   "id": "0d1a5413",
   "metadata": {
    "id": "bea983a3"
   },
   "source": [
    "### Exercise 72:\n",
    "Write a Python program that counts the number of vowels in a string.\n",
    "\n",
    "```python\n",
    "# Exercise 72\n",
    "```\n",
    "\n",
    "---"
   ]
  },
  {
   "cell_type": "code",
   "execution_count": 97,
   "id": "358c5eda",
   "metadata": {},
   "outputs": [
    {
     "data": {
      "text/plain": [
       "3"
      ]
     },
     "execution_count": 97,
     "metadata": {},
     "output_type": "execute_result"
    }
   ],
   "source": [
    "caracter=\"asavcw vff3ye\"\n",
    "voyelle='aieouAIEOU'\n",
    "nombre_voyelle=sum(1 for nombre in caracter if nombre in voyelle)\n",
    "nombre_voyelle"
   ]
  },
  {
   "cell_type": "markdown",
   "id": "06aa5ccd",
   "metadata": {
    "id": "bea983a3"
   },
   "source": [
    "### Exercise 73:\n",
    "Create a list of tuples where each tuple contains a number from 1 to 5 and its factorial.\n",
    "\n",
    "```python\n",
    "# Exercise 73\n",
    "```\n",
    "\n",
    "---"
   ]
  },
  {
   "cell_type": "code",
   "execution_count": 104,
   "id": "282d8162",
   "metadata": {},
   "outputs": [
    {
     "data": {
      "text/plain": [
       "[(1, 1), (2, 2), (3, 6), (4, 24), (5, 120)]"
      ]
     },
     "execution_count": 104,
     "metadata": {},
     "output_type": "execute_result"
    }
   ],
   "source": [
    "import math \n",
    "tuple_factorial=[(i,math.factorial(i)) for i in range(1,6)]\n",
    "tuple_factorial"
   ]
  },
  {
   "cell_type": "markdown",
   "id": "a3c6ebb8",
   "metadata": {
    "id": "bea983a3"
   },
   "source": [
    "### Exercise 74:\n",
    "Write a Python program that converts a list of dictionaries into a single dictionary by merging them.\n",
    "\n",
    "```python\n",
    "# Exercise 74\n",
    "```\n",
    "\n",
    "---"
   ]
  },
  {
   "cell_type": "code",
   "execution_count": 105,
   "id": "44bc49c7",
   "metadata": {},
   "outputs": [
    {
     "name": "stdout",
     "output_type": "stream",
     "text": [
      "{'a': 1, 'b': 2, 'c': 3}\n"
     ]
    }
   ],
   "source": [
    "# Liste de dictionnaires\n",
    "liste_dicts = [{\"a\": 1}, {\"b\": 2}, {\"c\": 3}]\n",
    "\n",
    "# Fusionner les dictionnaires\n",
    "dictionnaire_unique = {}\n",
    "for d in liste_dicts:\n",
    "    dictionnaire_unique.update(d)\n",
    "\n",
    "print(dictionnaire_unique)\n"
   ]
  },
  {
   "cell_type": "markdown",
   "id": "600f6828",
   "metadata": {
    "id": "bea983a3"
   },
   "source": [
    "### Exercise 75:\n",
    "Write a Python function that checks if a set is a subset of another set.\n",
    "\n",
    "```python\n",
    "# Exercise 75\n",
    "```\n",
    "\n",
    "---"
   ]
  },
  {
   "cell_type": "code",
   "execution_count": 106,
   "id": "6af247e0",
   "metadata": {},
   "outputs": [],
   "source": [
    "def est_sous_ensemble(sous_ensemble, ensemble):\n",
    "    return sous_ensemble.issubset(ensemble)\n"
   ]
  },
  {
   "cell_type": "markdown",
   "id": "adecc5a7",
   "metadata": {
    "id": "bea983a3"
   },
   "source": [
    "### Exercise 76:\n",
    "Write a Python program that sorts a list of tuples based on the second element in each tuple.\n",
    "\n",
    "```python\n",
    "# Exercise 76\n",
    "```\n",
    "\n",
    "---"
   ]
  },
  {
   "cell_type": "code",
   "execution_count": 107,
   "id": "0a68ee18",
   "metadata": {},
   "outputs": [
    {
     "name": "stdout",
     "output_type": "stream",
     "text": [
      "[(2, 1), (4, 2), (1, 3), (3, 5)]\n"
     ]
    }
   ],
   "source": [
    "# Liste de tuples\n",
    "liste_tuples = [(1, 3), (2, 1), (4, 2), (3, 5)]\n",
    "\n",
    "# Tri selon le deuxième élément\n",
    "liste_triee = sorted(liste_tuples, key=lambda x: x[1])\n",
    "\n",
    "print(liste_triee)\n"
   ]
  },
  {
   "cell_type": "markdown",
   "id": "d4561df1",
   "metadata": {
    "id": "bea983a3"
   },
   "source": [
    "### Exercise 77:\n",
    "Write a Python function that takes a list of integers and returns a new list with only the positive integers.\n",
    "\n",
    "```python\n",
    "# Exercise 77\n",
    "```\n",
    "\n",
    "---"
   ]
  },
  {
   "cell_type": "code",
   "execution_count": 109,
   "id": "56a7d7ef",
   "metadata": {},
   "outputs": [],
   "source": [
    "def liste_only_positive(list_integers):\n",
    "    list_integers=[i for i in list_integers if i>0]\n",
    "    return list_integers"
   ]
  },
  {
   "cell_type": "markdown",
   "id": "8363de85",
   "metadata": {
    "id": "bea983a3"
   },
   "source": [
    "### Exercise 78:\n",
    "Write a Python function that takes two sets and returns their union.\n",
    "\n",
    "```python\n",
    "# Exercise 78\n",
    "```\n",
    "\n",
    "---"
   ]
  },
  {
   "cell_type": "code",
   "execution_count": 110,
   "id": "7e6db0fe",
   "metadata": {},
   "outputs": [],
   "source": [
    "def fonction_union(set1,set2):\n",
    "    return set1.union(set2)"
   ]
  },
  {
   "cell_type": "markdown",
   "id": "a22a745d",
   "metadata": {
    "id": "bea983a3"
   },
   "source": [
    "### Exercise 79:\n",
    "Write a Python function that takes a list of numbers and returns the product of all the numbers.\n",
    "\n",
    "```python\n",
    "# Exercise 79\n",
    "```\n",
    "\n",
    "---"
   ]
  },
  {
   "cell_type": "code",
   "execution_count": 114,
   "id": "bc1974aa",
   "metadata": {},
   "outputs": [],
   "source": [
    "from functools import reduce\n",
    "\n",
    "def produit_liste(liste):\n",
    "    return reduce(lambda x, y: x * y, liste)\n"
   ]
  },
  {
   "cell_type": "markdown",
   "id": "3d5bab4e",
   "metadata": {
    "id": "bea983a3"
   },
   "source": [
    "### Exercise 80:\n",
    "Write a Python program that converts a list of characters into a string.\n",
    "\n",
    "```python\n",
    "# Exercise 80\n",
    "```\n",
    "\n",
    "---"
   ]
  },
  {
   "cell_type": "code",
   "execution_count": 120,
   "id": "cb3eaee3",
   "metadata": {},
   "outputs": [
    {
     "data": {
      "text/plain": [
       "'abc'"
      ]
     },
     "execution_count": 120,
     "metadata": {},
     "output_type": "execute_result"
    }
   ],
   "source": [
    "list1=['a','b','c']\n",
    "chaine=''.join(list1)\n",
    "chaine"
   ]
  },
  {
   "cell_type": "markdown",
   "id": "a16f88dc",
   "metadata": {
    "id": "bea983a3"
   },
   "source": [
    "### Exercise 81:\n",
    "Write a Python program that finds the second largest number in a list of integers.\n",
    "\n",
    "```python\n",
    "# Exercise 81\n",
    "```"
   ]
  },
  {
   "cell_type": "code",
   "execution_count": null,
   "id": "223bff11",
   "metadata": {},
   "outputs": [],
   "source": [
    "def deuxieme_plus_grand(liste):\n",
    "    if len(liste) < 2:\n",
    "        return None  # Pas assez d'éléments\n",
    "    # Supprimer les doublons et trier la liste\n",
    "    unique_liste = sorted(set(liste), reverse=True)\n",
    "    return unique_liste[1]  # Le deuxième élément\n",
    "\n",
    "# Exemple d'utilisation\n",
    "nombres = [4, 1, 7, 7, 3, 2]\n",
    "print(deuxieme_plus_grand(nombres))\n"
   ]
  },
  {
   "cell_type": "markdown",
   "id": "3e55b05b",
   "metadata": {
    "id": "bea983a3"
   },
   "source": [
    "---\n",
    "\n",
    "### Exercise 82:\n",
    "Write a Python function that takes a dictionary and returns a list of its keys in sorted order.\n",
    "\n",
    "```python\n",
    "# Exercise 82\n",
    "```\n",
    "\n",
    "---"
   ]
  },
  {
   "cell_type": "code",
   "execution_count": 121,
   "id": "f3d366af",
   "metadata": {},
   "outputs": [],
   "source": [
    "def cles_triees(dictionnaire):\n",
    "    return sorted(dictionnaire.keys())\n"
   ]
  },
  {
   "cell_type": "markdown",
   "id": "92681565",
   "metadata": {
    "id": "bea983a3"
   },
   "source": [
    "### Exercise 83:\n",
    "Write a Python program that finds the most common element in a list.\n",
    "\n",
    "```python\n",
    "# Exercise 83\n",
    "```\n",
    "\n",
    "---"
   ]
  },
  {
   "cell_type": "code",
   "execution_count": null,
   "id": "70ba51f7",
   "metadata": {},
   "outputs": [],
   "source": [
    "from collections import Counter\n",
    "\n",
    "# Liste d'exemple\n",
    "liste = [1, 2, 2, 3, 3, 3, 4, 2]\n",
    "\n",
    "# Compter les occurrences\n",
    "compteur = Counter(liste)\n",
    "\n",
    "# Trouver l'élément le plus commun\n",
    "element_plus_frequent = compteur.most_common(1)[0][0]\n",
    "\n",
    "print(element_plus_frequent)\n"
   ]
  },
  {
   "cell_type": "markdown",
   "id": "5f6f2676",
   "metadata": {
    "id": "bea983a3"
   },
   "source": [
    "### Exercise 84:\n",
    "Write a Python function that takes a list of tuples and returns a list of the tuples sorted by the first element.\n",
    "\n",
    "```python\n",
    "# Exercise 84\n",
    "```\n",
    "\n",
    "---"
   ]
  },
  {
   "cell_type": "code",
   "execution_count": null,
   "id": "fd109ddd",
   "metadata": {},
   "outputs": [],
   "source": [
    "def trier_par_premier(liste_tuples):\n",
    "    return sorted(liste_tuples, key=lambda x: x[0])\n"
   ]
  },
  {
   "cell_type": "markdown",
   "id": "acaee687",
   "metadata": {
    "id": "bea983a3"
   },
   "source": [
    "### Exercise 85:\n",
    "Write a Python program that removes duplicates from a list of dictionaries.\n",
    "\n",
    "```python\n",
    "# Exercise 85\n",
    "```\n",
    "\n",
    "---"
   ]
  },
  {
   "cell_type": "code",
   "execution_count": null,
   "id": "838479c8",
   "metadata": {},
   "outputs": [],
   "source": [
    "# Liste de dictionnaires avec doublons\n",
    "liste_dicts = [\n",
    "    {\"a\": 1, \"b\": 2},\n",
    "    {\"c\": 3},\n",
    "    {\"a\": 1, \"b\": 2},\n",
    "    {\"d\": 4}\n",
    "]\n",
    "\n",
    "# Supprimer les doublons\n",
    "liste_sans_doublons = []\n",
    "vue = set()\n",
    "for d in liste_dicts:\n",
    "    # Transformer le dictionnaire en tuple trié pour le rendre hashable\n",
    "    dict_tuple = tuple(sorted(d.items()))\n",
    "    if dict_tuple not in vue:\n",
    "        vue.add(dict_tuple)\n",
    "        liste_sans_doublons.append(d)\n",
    "\n",
    "print(liste_sans_doublons)\n"
   ]
  },
  {
   "cell_type": "markdown",
   "id": "b1db83ac",
   "metadata": {
    "id": "bea983a3"
   },
   "source": [
    "### Exercise 86:\n",
    "Write a Python function that takes a list of numbers and returns the minimum and maximum numbers in the list.\n",
    "\n",
    "```python\n",
    "# Exercise 86\n",
    "```\n",
    "\n",
    "---"
   ]
  },
  {
   "cell_type": "code",
   "execution_count": 124,
   "id": "b4561a40",
   "metadata": {},
   "outputs": [
    {
     "data": {
      "text/plain": [
       "(1, 8)"
      ]
     },
     "execution_count": 124,
     "metadata": {},
     "output_type": "execute_result"
    }
   ],
   "source": [
    "def min_list_max(list_numbers):\n",
    "    minimum=min(list_numbers)\n",
    "    maximum=max(list_numbers)\n",
    "    return minimum,maximum\n",
    "list_1=[1,3,6,8]\n",
    "min_list_max(list_1)"
   ]
  },
  {
   "cell_type": "markdown",
   "id": "29f781e4",
   "metadata": {
    "id": "bea983a3"
   },
   "source": [
    "### Exercise 87:\n",
    "Write a Python program that creates a list of tuples from two lists.\n",
    "\n",
    "```python\n",
    "# Exercise 87\n",
    "```\n",
    "\n",
    "---"
   ]
  },
  {
   "cell_type": "code",
   "execution_count": 129,
   "id": "f1bf736b",
   "metadata": {},
   "outputs": [
    {
     "data": {
      "text/plain": [
       "[(1, 7), (3, 9), (5, 6), (7, 10)]"
      ]
     },
     "execution_count": 129,
     "metadata": {},
     "output_type": "execute_result"
    }
   ],
   "source": [
    "list1=[1,3,5,7]\n",
    "list2=[7,9,6,10]\n",
    "list_tuple=list(zip(list1 , list2))\n",
    "list_tuple"
   ]
  },
  {
   "cell_type": "markdown",
   "id": "235b99ba",
   "metadata": {
    "id": "bea983a3"
   },
   "source": [
    "### Exercise 88:\n",
    "Write a Python function that takes a list of strings and returns a list of the strings in reverse order.\n",
    "\n",
    "```python\n",
    "# Exercise 88\n",
    "```\n",
    "\n",
    "---"
   ]
  },
  {
   "cell_type": "code",
   "execution_count": 131,
   "id": "5317caa5",
   "metadata": {},
   "outputs": [
    {
     "data": {
      "text/plain": [
       "['b', 'a']"
      ]
     },
     "execution_count": 131,
     "metadata": {},
     "output_type": "execute_result"
    }
   ],
   "source": [
    "def list_reverse_order(list_chr):\n",
    "    return list_chr[::-1]\n",
    "list_reverse_order(['a','b'])"
   ]
  },
  {
   "cell_type": "markdown",
   "id": "ee87aa8a",
   "metadata": {
    "id": "bea983a3"
   },
   "source": [
    "### Exercise 89:\n",
    "Write a Python function that takes a list of integers and returns the sum of all odd numbers.\n",
    "\n",
    "```python\n",
    "# Exercise 89\n",
    "```\n",
    "\n",
    "---"
   ]
  },
  {
   "cell_type": "code",
   "execution_count": 135,
   "id": "463ae68c",
   "metadata": {},
   "outputs": [
    {
     "data": {
      "text/plain": [
       "8"
      ]
     },
     "execution_count": 135,
     "metadata": {},
     "output_type": "execute_result"
    }
   ],
   "source": [
    "def sum_all_odd_numbers(list_integers):\n",
    "    list_all_odd_numbers=[i for i in list_integers if i%2!=0]\n",
    "    return sum(list_all_odd_numbers)\n",
    "sum_all_odd_numbers([2,3,5,10])"
   ]
  },
  {
   "cell_type": "markdown",
   "id": "c82637eb",
   "metadata": {
    "id": "bea983a3"
   },
   "source": [
    "### Exercise 90:\n",
    "Write a Python program that checks if a string is a palindrome.\n",
    "\n",
    "```python\n",
    "# Exercise 90\n",
    "```\n",
    "\n",
    "---"
   ]
  },
  {
   "cell_type": "code",
   "execution_count": 136,
   "id": "019c4c16",
   "metadata": {},
   "outputs": [
    {
     "name": "stdout",
     "output_type": "stream",
     "text": [
      "True\n",
      "False\n"
     ]
    }
   ],
   "source": [
    "def est_palindrome(chaine):\n",
    "    # On ignore les majuscules et les espaces\n",
    "    chaine = chaine.replace(\" \", \"\").lower()\n",
    "    return chaine == chaine[::-1]\n",
    "\n",
    "# Exemple d'utilisation\n",
    "texte = \"radar\"\n",
    "print(est_palindrome(texte))  # True\n",
    "\n",
    "texte2 = \"Hello\"\n",
    "print(est_palindrome(texte2))  # False\n"
   ]
  },
  {
   "cell_type": "markdown",
   "id": "6667c2b2",
   "metadata": {
    "id": "bea983a3"
   },
   "source": [
    "### Exercise 91:\n",
    "Write a Python program that finds the median of a list of numbers.\n",
    "\n",
    "```python\n",
    "# Exercise 91\n",
    "```\n",
    "\n",
    "---"
   ]
  },
  {
   "cell_type": "code",
   "execution_count": null,
   "id": "e4451755",
   "metadata": {},
   "outputs": [],
   "source": [
    "def mediane(liste):\n",
    "    # Trier la liste\n",
    "    liste_triee = sorted(liste)\n",
    "    n = len(liste_triee)\n",
    "    \n",
    "    # Cas pair ou impair\n",
    "    if n % 2 == 1:  # impair\n",
    "        return liste_triee[n // 2]\n",
    "    else:  # pair\n",
    "        milieu1 = liste_triee[n // 2 - 1]\n",
    "        milieu2 = liste_triee[n // 2]\n",
    "        return (milieu1 + milieu2) / 2\n",
    "\n",
    "# Exemple d'utilisation\n",
    "nombres1 = [3, 1, 4, 2, 5]\n",
    "nombres2 = [3, 1, 4, 2]\n",
    "\n",
    "print(mediane(nombres1))  # 3\n",
    "print(mediane(nombres2))  # 2.5\n"
   ]
  },
  {
   "cell_type": "markdown",
   "id": "d6c2bef6",
   "metadata": {
    "id": "bea983a3"
   },
   "source": [
    "### Exercise 92:\n",
    "Write a Python function that takes a list of dictionaries and returns a dictionary with the total value for each key.\n",
    "\n",
    "```python\n",
    "# Exercise 92\n",
    "```\n",
    "\n",
    "---"
   ]
  },
  {
   "cell_type": "code",
   "execution_count": 137,
   "id": "2f3e5e63",
   "metadata": {},
   "outputs": [],
   "source": [
    "def somme_par_cle(liste_dicts):\n",
    "    resultat = {}\n",
    "    for d in liste_dicts:\n",
    "        for cle, valeur in d.items():\n",
    "            if cle in resultat:\n",
    "                resultat[cle] += valeur\n",
    "            else:\n",
    "                resultat[cle] = valeur\n",
    "    return resultat\n"
   ]
  },
  {
   "cell_type": "markdown",
   "id": "8b8733fe",
   "metadata": {
    "id": "bea983a3"
   },
   "source": [
    "### Exercise 93:\n",
    "Write a Python program that calculates the mode of a list of numbers.\n",
    "\n",
    "```python\n",
    "# Exercise 93\n",
    "```\n",
    "\n",
    "---"
   ]
  },
  {
   "cell_type": "code",
   "execution_count": null,
   "id": "72ced910",
   "metadata": {},
   "outputs": [],
   "source": [
    "from collections import Counter\n",
    "\n",
    "def mode_liste(liste):\n",
    "    compteur = Counter(liste)\n",
    "    max_count = max(compteur.values())\n",
    "    # Retourne toutes les valeurs ayant la fréquence maximale\n",
    "    return [k for k, v in compteur.items() if v == max_count]\n",
    "\n",
    "# Exemple d'utilisation\n",
    "nombres = [1, 2, 2, 3, 3, 3, 4, 2]\n",
    "print(mode_liste(nombres))\n"
   ]
  },
  {
   "cell_type": "markdown",
   "id": "ff2d6860",
   "metadata": {
    "id": "bea983a3"
   },
   "source": [
    "### Exercise 94:\n",
    "Write a Python function that takes a list of numbers and returns the sum of the squares of all the numbers.\n",
    "\n",
    "```python\n",
    "# Exercise 94\n",
    "```\n",
    "\n",
    "---"
   ]
  },
  {
   "cell_type": "code",
   "execution_count": 140,
   "id": "8132446f",
   "metadata": {},
   "outputs": [
    {
     "name": "stdout",
     "output_type": "stream",
     "text": [
      "[1, 4, 4, 9, 9, 9, 16, 4]\n"
     ]
    },
    {
     "data": {
      "text/plain": [
       "56"
      ]
     },
     "execution_count": 140,
     "metadata": {},
     "output_type": "execute_result"
    }
   ],
   "source": [
    "def square_of_all_numbers(list_numbers):\n",
    "    list_squares=[i**2 for i in list_numbers]\n",
    "    print(list_squares)\n",
    "    return sum(list_squares)\n",
    "nombres = [1, 2, 2, 3, 3, 3, 4, 2]\n",
    "square_of_all_numbers(nombres)"
   ]
  },
  {
   "cell_type": "markdown",
   "id": "f778ed43",
   "metadata": {
    "id": "bea983a3"
   },
   "source": [
    "### Exercise 95:\n",
    "Write a Python program that creates a list of tuples, where each tuple contains a number and its cube for numbers from 1 to 5.\n",
    "\n",
    "```python\n",
    "# Exercise 95\n",
    "```\n",
    "\n",
    "---"
   ]
  },
  {
   "cell_type": "code",
   "execution_count": 142,
   "id": "03364197",
   "metadata": {},
   "outputs": [
    {
     "data": {
      "text/plain": [
       "[(1, 1), (2, 8), (3, 27), (4, 64), (5, 125)]"
      ]
     },
     "execution_count": 142,
     "metadata": {},
     "output_type": "execute_result"
    }
   ],
   "source": [
    "list_of_tuple=[(i,i**3) for i in range(1,6)]\n",
    "list_of_tuple"
   ]
  },
  {
   "cell_type": "markdown",
   "id": "e8e1f603",
   "metadata": {
    "id": "bea983a3"
   },
   "source": [
    "### Exercise 96:\n",
    "Write a Python function that returns a list of all prime numbers up to `n`.\n",
    "\n",
    "```python\n",
    "# Exercise 96\n",
    "```\n",
    "\n",
    "---"
   ]
  },
  {
   "cell_type": "code",
   "execution_count": 146,
   "id": "ead65116",
   "metadata": {},
   "outputs": [
    {
     "data": {
      "text/plain": [
       "[2, 3, 5, 7]"
      ]
     },
     "execution_count": 146,
     "metadata": {},
     "output_type": "execute_result"
    }
   ],
   "source": [
    "def nombres_premiers(n):\n",
    "    return [i for i in range(2, n + 1)\n",
    "            if all(i % j != 0 for j in range(2, int(i ** 0.5) + 1))]\n",
    "nombres_premiers(10)\n"
   ]
  },
  {
   "cell_type": "markdown",
   "id": "d85a70a0",
   "metadata": {
    "id": "bea983a3"
   },
   "source": [
    "### Exercise 97:\n",
    "Write a Python program that finds the common keys between two dictionaries.\n",
    "\n",
    "```python\n",
    "# Exercise 97\n",
    "```\n",
    "\n",
    "---"
   ]
  },
  {
   "cell_type": "code",
   "execution_count": null,
   "id": "c6211ebf",
   "metadata": {},
   "outputs": [],
   "source": [
    "def cles_communes(dict1, dict2):\n",
    "    return list(dict1.keys() & dict2.keys())\n"
   ]
  },
  {
   "cell_type": "markdown",
   "id": "2f500e7a",
   "metadata": {
    "id": "bea983a3"
   },
   "source": [
    "### Exercise 98:\n",
    "Write a Python function that takes a list of strings and returns a list of the strings that contain more than 5 characters.\n",
    "\n",
    "```python\n",
    "# Exercise 98\n",
    "```"
   ]
  },
  {
   "cell_type": "code",
   "execution_count": null,
   "id": "d660e0d4",
   "metadata": {},
   "outputs": [],
   "source": [
    "def list_of_strings_more_than_five(list_string):\n",
    "    return [i for i in list_string if len(i)>5]"
   ]
  },
  {
   "cell_type": "markdown",
   "id": "0eca4f53",
   "metadata": {
    "id": "bea983a3"
   },
   "source": [
    "---"
   ]
  },
  {
   "cell_type": "markdown",
   "id": "1593fdf4",
   "metadata": {
    "id": "bea983a3"
   },
   "source": [
    "### Exercise 99:\n",
    "Write a Python program that converts a list of strings into a list of tuples, where each tuple contains the string and its length.\n",
    "\n",
    "```python\n",
    "# Exercise 99\n",
    "```\n",
    "\n",
    "---"
   ]
  },
  {
   "cell_type": "code",
   "execution_count": 148,
   "id": "777c035b",
   "metadata": {},
   "outputs": [
    {
     "data": {
      "text/plain": [
       "[('adamat', 6), ('mamadou', 7), ('lamine', 6), ('awa', 3)]"
      ]
     },
     "execution_count": 148,
     "metadata": {},
     "output_type": "execute_result"
    }
   ],
   "source": [
    "list_string=['adamat','mamadou','lamine','awa']\n",
    "list_tuple=[(i,len(i)) for i in list_string]\n",
    "list_tuple"
   ]
  },
  {
   "cell_type": "markdown",
   "id": "bea983a3",
   "metadata": {
    "id": "bea983a3"
   },
   "source": [
    "### Exercise 100:\n",
    "Write a Python function that takes a list of dictionaries and returns a new dictionary by summing the values of each key across all dictionaries.\n",
    "\n",
    "```python\n",
    "# Exercise 100\n",
    "```\n",
    "\n",
    "---"
   ]
  },
  {
   "cell_type": "code",
   "execution_count": 149,
   "id": "c194cefd",
   "metadata": {},
   "outputs": [],
   "source": [
    "def somme_valeurs_par_cle(liste_dicts):\n",
    "    resultat = {}\n",
    "    for d in liste_dicts:\n",
    "        for cle, valeur in d.items():\n",
    "            resultat[cle] = resultat.get(cle, 0) + valeur\n",
    "    return resultat\n"
   ]
  },
  {
   "cell_type": "code",
   "execution_count": null,
   "id": "2c865436",
   "metadata": {},
   "outputs": [],
   "source": []
  }
 ],
 "metadata": {
  "colab": {
   "provenance": []
  },
  "kernelspec": {
   "display_name": "Python 3 (ipykernel)",
   "language": "python",
   "name": "python3"
  },
  "language_info": {
   "codemirror_mode": {
    "name": "ipython",
    "version": 3
   },
   "file_extension": ".py",
   "mimetype": "text/x-python",
   "name": "python",
   "nbconvert_exporter": "python",
   "pygments_lexer": "ipython3",
   "version": "3.9.12"
  }
 },
 "nbformat": 4,
 "nbformat_minor": 5
}
